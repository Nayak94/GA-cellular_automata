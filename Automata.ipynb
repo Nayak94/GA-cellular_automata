{
  "nbformat": 4,
  "nbformat_minor": 0,
  "metadata": {
    "colab": {
      "name": "Automata.ipynb",
      "provenance": [],
      "collapsed_sections": [],
      "toc_visible": true
    },
    "kernelspec": {
      "name": "python3",
      "display_name": "Python 3"
    }
  },
  "cells": [
    {
      "cell_type": "markdown",
      "metadata": {
        "id": "liBtyjXoGEq6",
        "colab_type": "text"
      },
      "source": [
        "## **Name :- Karan Nayak** \n",
        "\n",
        "\n",
        "\n",
        "## **Project Topic :- Evolving Cellular Automata using GA**\n",
        "\n",
        "\n",
        "\n",
        "\n"
      ]
    },
    {
      "cell_type": "markdown",
      "metadata": {
        "id": "LxXAcm0Co7B8",
        "colab_type": "text"
      },
      "source": [
        "## Kindly do and read the following :- \n",
        "\n",
        "\n",
        "*   Run all the cells till Initialize Population\n",
        "*   Upload the image of the binary hand to test the working of GA. Make sure the bonus is set to \"True\" in the function and also when you run the function**\n",
        "*   There are 3 more images given to check the bonus part , kindly upload them and change the name of the image in \"cv2.imread\" parameter of initialize population . Also set the bonus to \"True\".\n",
        "*    Sometimes , depending on the distortion in the start image , the GA overconverges the solution to all 0s. \n",
        "*The main algorithm is in **\"Main Code\"** cell . \n",
        "*The GA produces optimal results with 5 generations , after that it starts converging to same solution which is not the desired result. \n",
        "\n",
        "**Initially the code is set to directly run the bonus part by using the apple image. SO kindly upload the apple image and change the name of the image in \"cv2.imread\" parameter of initialize population. Make sure the bonus is set to \"True\" in the function and also when you run the function**\n",
        "\n"
      ]
    },
    {
      "cell_type": "markdown",
      "metadata": {
        "id": "znPPi8ZvXgMv",
        "colab_type": "text"
      },
      "source": [
        "## Initializations"
      ]
    },
    {
      "cell_type": "code",
      "metadata": {
        "id": "UdP_jp78N4X6",
        "colab_type": "code",
        "colab": {}
      },
      "source": [
        "import json\n",
        "import numpy as np\n",
        "import cv2\n",
        "import math\n",
        "import random\n",
        "from random import randint\n",
        "import copy\n",
        "import matplotlib.pyplot as plt\n",
        "from google.colab.patches import cv2_imshow\n",
        "import time"
      ],
      "execution_count": 0,
      "outputs": []
    },
    {
      "cell_type": "markdown",
      "metadata": {
        "id": "6P4zEREpHgwy",
        "colab_type": "text"
      },
      "source": [
        "## Binary Image Converter"
      ]
    },
    {
      "cell_type": "code",
      "metadata": {
        "id": "lI6Ky8vcG9E7",
        "colab_type": "code",
        "colab": {}
      },
      "source": [
        "def binary_image(pop):\n",
        "  t = 127 #threshold\n",
        "  start_image = np.array(population[0])\n",
        "  goal_image = np.array(population[1])\n",
        "  start_image = start_image.astype(np.uint8) # coercing the image into uint8 to apply cv2 threshold\n",
        "  goal_image = goal_image.astype(np.uint8) # coercing the image into uint8 to apply cv2 threshold\n",
        "  sb_image = cv2.threshold(start_image,t,1,cv2.THRESH_BINARY)\n",
        "  sb_list = sb_image[1].tolist() #converting the array to list incase required in code\n",
        "  gb_image = cv2.threshold(goal_image,t,1,cv2.THRESH_BINARY)\n",
        "  gb_list = gb_image[1].tolist() #converting the array to list incase required in code\n",
        "  return sb_image[1],gb_image[1]"
      ],
      "execution_count": 0,
      "outputs": []
    },
    {
      "cell_type": "markdown",
      "metadata": {
        "id": "l8ZNZKIjxkTx",
        "colab_type": "text"
      },
      "source": [
        "## Rule Applier Function"
      ]
    },
    {
      "cell_type": "code",
      "metadata": {
        "id": "vYU3TW9KG870",
        "colab_type": "code",
        "colab": {}
      },
      "source": [
        "##Take the current window , the rule table for all the individuals and individual number as reference\n",
        "##Converts the binary window to integer and then based on that , refers the corresponding rule for \n",
        "##the given individual in the rule table\n",
        "\n",
        "def rule_applier (w_3x3,rules,ind):\n",
        "  window_9 = w_3x3.reshape(1,9)\n",
        "  w_str = \"\".join(str(x) for x in window_9[0])\n",
        "  w_int = int(w_str,2)\n",
        "  if rules[ind][w_int] == 1 :\n",
        "    w_3x3[1][1] = 1\n",
        "    #print(\"Rule \", rules[ind][w_int] , \" at index \" , w_int , \" applied on the current window\")\n",
        "    return w_3x3\n",
        "  else:\n",
        "    w_3x3[1][1] = 0\n",
        "    #print(\"Rule \", rules[ind][w_int] , \" at index \" , w_int , \" applied on the current window\")\n",
        "    return w_3x3"
      ],
      "execution_count": 0,
      "outputs": []
    },
    {
      "cell_type": "markdown",
      "metadata": {
        "id": "zVqnf6PNHkps",
        "colab_type": "text"
      },
      "source": [
        "## Individual Fetch"
      ]
    },
    {
      "cell_type": "code",
      "metadata": {
        "id": "8JSkfRvUG8zt",
        "colab_type": "code",
        "colab": {}
      },
      "source": [
        "def ind_fetch(pop):\n",
        "  indi = 2 #starting to take individuals from position '2' in the dictionary\n",
        "  r1_table = [] #creating a list to store the rules for the individuals stored in r_table in below loop.\n",
        "  while indi < len(population):\n",
        "    r_table = [] # list for the rules of an individual. IDEA here is to store the rules for the respective 5 bit binary number. Here \n",
        "    ############## a counter c is taken which will be converted to binary and used as reference to fetch it's corresponding rule. \n",
        "    c = 0\n",
        "    for i in range(len(population[indi])): #takes an individual , extracts the rules as per the truth table and store in the list \"r_table\"\n",
        "      e = f'{c:09b}'\n",
        "      var = population[indi][i][e]\t\n",
        "      r_table.append(var)\n",
        "      c += 1\n",
        "    \n",
        "    r1_table.append(r_table)\n",
        "    indi += 1\n",
        "  \n",
        "  return r1_table\n"
      ],
      "execution_count": 0,
      "outputs": []
    },
    {
      "cell_type": "markdown",
      "metadata": {
        "id": "rZeB1fErW5q_",
        "colab_type": "text"
      },
      "source": [
        "## Calculating fitness of binary start and goal images ."
      ]
    },
    {
      "cell_type": "code",
      "metadata": {
        "id": "zWwCdIQ_N1Hk",
        "colab_type": "code",
        "colab": {}
      },
      "source": [
        "def calculate_fitness(final_image, goal_image):\n",
        "  fitness = 0\n",
        "  \n",
        "  for x_pixel in range(len(final_image)):\n",
        "    for y_pixel in range(len(final_image)):\n",
        "      if final_image[x_pixel][y_pixel] != goal_image[x_pixel][y_pixel]:\n",
        "        fitness = fitness + 1\n",
        "\n",
        "  return fitness"
      ],
      "execution_count": 0,
      "outputs": []
    },
    {
      "cell_type": "markdown",
      "metadata": {
        "id": "aRu5im2aoCW5",
        "colab_type": "text"
      },
      "source": [
        "## Visualize Image"
      ]
    },
    {
      "cell_type": "code",
      "metadata": {
        "id": "9m4-9QSUoxpf",
        "colab_type": "code",
        "colab": {}
      },
      "source": [
        "def visualize_image(image):\n",
        "  cv2_imshow(image)"
      ],
      "execution_count": 0,
      "outputs": []
    },
    {
      "cell_type": "markdown",
      "metadata": {
        "id": "4DqPuX2IHp6r",
        "colab_type": "text"
      },
      "source": [
        "## Window SLider"
      ]
    },
    {
      "cell_type": "code",
      "metadata": {
        "id": "usMU7q6oG8qb",
        "colab_type": "code",
        "colab": {}
      },
      "source": [
        "def window_slider(a1,rules,candidate):\n",
        "\n",
        "  j = 0\n",
        "  while j < (len(a1)-2):\n",
        "    i = 0\n",
        "    while i < (len(a1[0])-2):\n",
        "      window = a1[j:j+3 , i:i+3]\n",
        "      window = rule_applier(window,rules,candidate)\n",
        "      i += 1\n",
        "      \n",
        "\n",
        "    if (i == len(a1[0])-2):\n",
        "      w1 = a1[j:j+3 , i:len(a1[0])] \n",
        "      w2 = a1[j:j+3 , :1]\n",
        "      window = np.hstack([w1,w2])\n",
        "      window = rule_applier(window,rules,candidate)\n",
        "      a1[j:j+3 , i:len(a1[0])] = window[: , :2]\n",
        "      a1[j:j+3 , :1] = window[: , 2:]\n",
        "      i += 1\n",
        "      w1 = a1[j:j+3 , i:len(a1[0])] \n",
        "      w2 = a1[j:j+3 , :2]\n",
        "      window = np.hstack([w1,w2])\n",
        "      window = rule_applier(window,rules,candidate)\n",
        "      a1[j:j+3 , i:len(a1[0])] = window[: , :1]\n",
        "      a1[j:j+3 , :2] = window[: , 1:]\n",
        "\n",
        "    j += 1\n",
        "\n",
        "\n",
        "  #covering last row elements\n",
        "\n",
        "  if j == len(a1)-2:\n",
        "    i = 0\n",
        "    while i < (len(a1[0])-2):\n",
        "      w1 = a1[j:len(a1[0]) , i:i+3]\n",
        "      w2 = a1[:1 , i:i+3]\n",
        "      window = np.vstack([w1,w2])\n",
        "      window = rule_applier(window,rules,candidate)\n",
        "      a1[j:len(a1[0]) , i:i+3] = window[:2 , :]\n",
        "      a1[:1 , i:i+3] = window[2: , :]\n",
        "      i +=1\n",
        "    if (i == len(a1[0])-2):\n",
        "      w1 = a1[j:len(a1[0]) , i:len(a1[0])] \n",
        "      w2 = a1[j:len(a1[0]) , :1]\n",
        "      e = np.hstack([w1,w2])\n",
        "      w3 = a1[:1 , i:len(a1[0])]\n",
        "      w4 = a1[:1 , :1]\n",
        "      f = np.hstack([w3,w4])\n",
        "      window = np.vstack([e,f])\n",
        "      window = rule_applier(window,rules,candidate)\n",
        "      a1[j:len(a1[0]) , i:len(a1[0])] = window[:2 , :2]\n",
        "      a1[j:len(a1[0]) , :1] = window[:2 , 2:]\n",
        "      a1[:1 , i:len(a1[0])] = window[2: , :2]\n",
        "      a1[:1 , :1] = window[2: , 2:]\n",
        "      i += 1\n",
        "      w1 = a1[j:len(a1[0]) , i:len(a1[0])] \n",
        "      w2 = a1[j:len(a1[0]) , :2]\n",
        "      e = np.hstack([w1,w2])\n",
        "      w3 = a1[:1 , i:len(a1[0])]\n",
        "      w4 = a1[:1 , :2]\n",
        "      f = np.hstack([w3,w4])\n",
        "      window = np.vstack([e,f])\n",
        "      window = rule_applier(window,rules,candidate)\n",
        "      a1[j:len(a1[0]) , i:len(a1[0])] = window[:2 , :1]\n",
        "      a1[j:len(a1[0]) , :2] = window[:2 , 1:]\n",
        "      a1[:1 , i:len(a1[0])] = window[2: , :1]\n",
        "      a1[:1 , :2] = window[2: , 1:]\n",
        "    j += 1\n",
        "    \n",
        "\n",
        "  #covering first row elements \n",
        "\n",
        "  if j == len(a1)-1:\n",
        "    i = 0\n",
        "    while i < (len(a1[0])-2):\n",
        "      w1 = a1[j:len(a1[0]) , i:i+3]\n",
        "      w2 = a1[:2 , i:i+3]\n",
        "      window = np.vstack([w1,w2])\n",
        "      window = rule_applier(window,rules,candidate)\n",
        "      a1[j:len(a1[0]) , i:i+3] = window[:1 , :]\n",
        "      a1[:2 , i:i+3] = window[1: , :]\n",
        "      i +=1\n",
        "    if (i == len(a1[0])-2):\n",
        "      w1 = a1[j:len(a1[0]) , i:len(a1[0])] \n",
        "      w2 = a1[j:len(a1[0]) , :1]\n",
        "      e = np.hstack([w1,w2])\n",
        "      w3 = a1[:2 , i:len(a1[0])]\n",
        "      w4 = a1[:2 , :1]\n",
        "      f = np.hstack([w3,w4])\n",
        "      window = np.vstack([e,f])\n",
        "      window = rule_applier(window,rules,candidate)\n",
        "      a1[j:len(a1[0]) , i:len(a1[0])] = window[:1 , :2]\n",
        "      a1[j:len(a1[0]) , :1] = window[:1 , 2:]\n",
        "      a1[:2 , i:len(a1[0])] = window[1: , :2]\n",
        "      a1[:2 , :1] = window[1: , 2:]\n",
        "      i += 1\n",
        "      w1 = a1[j:len(a1[0]) , i:len(a1[0])] \n",
        "      w2 = a1[j:len(a1[0]) , :2]\n",
        "      e = np.hstack([w1,w2])\n",
        "      w3 = a1[:2 , i:len(a1[0])]\n",
        "      w4 = a1[:2 , :2]\n",
        "      f = np.hstack([w3,w4])\n",
        "      window = np.vstack([e,f])\n",
        "      window = rule_applier(window,rules,candidate)\n",
        "      a1[j:len(a1[0]) , i:len(a1[0])] = window[:1 , :1]\n",
        "      a1[j:len(a1[0]) , :2] = window[:1 , 1:]\n",
        "      a1[:2 , i:len(a1[0])] = window[1: , :1]\n",
        "      a1[:2 , :2] = window[1: , 1:]\n",
        "\n",
        "    j += 1\n",
        "\n",
        "  return a1    "
      ],
      "execution_count": 0,
      "outputs": []
    },
    {
      "cell_type": "markdown",
      "metadata": {
        "id": "kq31tT0NNHwR",
        "colab_type": "text"
      },
      "source": [
        "## Single point X-over"
      ]
    },
    {
      "cell_type": "code",
      "metadata": {
        "id": "ISqzH8PlNNtE",
        "colab_type": "code",
        "colab": {}
      },
      "source": [
        "def xover1(p1,p2):\n",
        "  decider = randint(1, len(p1)-1)\n",
        "  print(\"Xover point was :- \" ,decider)\n",
        "  temp = copy.deepcopy(p1)\n",
        "  p1 = p1[:decider] + p2[decider:]\n",
        "  p2 = p2[:decider] + temp[decider:]\n",
        "  return p1 , p2"
      ],
      "execution_count": 0,
      "outputs": []
    },
    {
      "cell_type": "markdown",
      "metadata": {
        "id": "zVbGrnpG3RVA",
        "colab_type": "text"
      },
      "source": [
        "## Two point X-over"
      ]
    },
    {
      "cell_type": "code",
      "metadata": {
        "id": "0fYMKhla1wBx",
        "colab_type": "code",
        "colab": {}
      },
      "source": [
        "def xover2(p1,p2):\n",
        "  l = int((len(p1)-1)/2)\n",
        "  decider1 = randint(1, l)\n",
        "  decider2 = randint(l+1, (len(p1)-1))\n",
        "  print(\"Xover points are :- \" ,decider1 , \" and \" , decider2)\n",
        "\n",
        "  temp = copy.deepcopy(p1)\n",
        "  p1 = p1[:decider1] + p2[decider1:decider2] + p1[decider2:]\n",
        "  p2 = p2[:decider1] + temp[decider1:decider2] + p2[decider2:]\n",
        "  return p1 , p2\n"
      ],
      "execution_count": 0,
      "outputs": []
    },
    {
      "cell_type": "markdown",
      "metadata": {
        "id": "Ks5xF6ybNZ5g",
        "colab_type": "text"
      },
      "source": [
        "## Mutation Type 1"
      ]
    },
    {
      "cell_type": "code",
      "metadata": {
        "colab_type": "code",
        "id": "ALSQGWxbzZjc",
        "colab": {}
      },
      "source": [
        "def mutation1(fitness,pool,dividend,fitness_min):\n",
        "  divisor = int(dividend / 512)\n",
        "  if fitness > (fitness_min-200)  and fitness < (fitness_min+200) :\n",
        "    n = (int(fitness/divisor))-1\n",
        "    #print(n)\n",
        "    sel = random.sample(range(0,len(pool)),n)\n",
        "    print(\"Index selected was :- \", sel)\n",
        "    for i in sel:\n",
        "      if pool[i] == 0:\n",
        "        pool[i] = 1\n",
        "      else:\n",
        "        continue\n",
        "    return pool\n",
        "  \n",
        "  else:\n",
        "    print(\"Performing mutation\")\n",
        "    #for j in range(len(fitness)):\n",
        "    n = (int(fitness/divisor))-1\n",
        "    #print(n)\n",
        "    sel = random.sample(range(0,len(pool)),n)\n",
        "    print(\"Index selected was :- \", sel)\n",
        "    p_m = 0.5 #mutation rate\n",
        "    v_float = random.uniform(0,1)\n",
        "    for i in sel:\n",
        "      if v_float < p_m:\n",
        "        pool[i] = 0\n",
        "      else:\n",
        "        continue\n",
        "    return pool"
      ],
      "execution_count": 0,
      "outputs": []
    },
    {
      "cell_type": "markdown",
      "metadata": {
        "id": "LJFO2jqok0O7",
        "colab_type": "text"
      },
      "source": [
        "## Mutation Type 2"
      ]
    },
    {
      "cell_type": "code",
      "metadata": {
        "id": "uhcumXkvk48U",
        "colab_type": "code",
        "colab": {}
      },
      "source": [
        "def mutation2(fitness,pool):\n",
        "\n",
        "  p_m = 0.5 \n",
        "  v_float = random.uniform(0,1)\n",
        "  if v_float < 0.5:\n",
        "    #for j in range(len(fitness)):\n",
        "    mn = []\n",
        "    for i in range(9):\n",
        "      val = 2**i\n",
        "      mn.append(val)\n",
        "      if pool[val] == 1:\n",
        "        pool[val] = 0\n",
        "      else:\n",
        "        continue\n",
        "      \n",
        "    \n",
        "    pq = []\n",
        "    for r in range(4):\n",
        "      k = randint(2,len(mn)-1)\n",
        "      temp = random.sample(mn,k)\n",
        "      val1 = sum(temp)\n",
        "      pq.append(val1)\n",
        "      if pool[val1] == 1:\n",
        "        pool[val1] = 0\n",
        "      else:\n",
        "        continue\n",
        "\n",
        "    ef = mn + pq\n",
        "    print(\"Indices of changed elements for \", j ,\" individual are :- \" , ef)    \n",
        "    return pool\n",
        "    \n",
        "  else:\n",
        "    return pool\n"
      ],
      "execution_count": 0,
      "outputs": []
    },
    {
      "cell_type": "markdown",
      "metadata": {
        "id": "AdYv-m8rzc7R",
        "colab_type": "text"
      },
      "source": [
        "## Fitness Evaluator"
      ]
    },
    {
      "cell_type": "code",
      "metadata": {
        "id": "Xne24H_0zfg6",
        "colab_type": "code",
        "colab": {}
      },
      "source": [
        "def fitness_evaluator(pool,start,goal):\n",
        "  offspring_fitness =[]\n",
        "  offspring_solutions = [None] * len(pool)\n",
        "  for i in range(len(pool)):\n",
        "    trial_start = copy.deepcopy(start)\n",
        "    for p in range(5):\n",
        "      trial_start = window_slider(trial_start,pool,i)\n",
        "    offspring_solutions[i] = trial_start\n",
        "    o_fit = calculate_fitness(offspring_solutions[i],goal)\n",
        "    offspring_fitness.append(o_fit)\n",
        "  \n",
        "  return offspring_solutions, offspring_fitness"
      ],
      "execution_count": 0,
      "outputs": []
    },
    {
      "cell_type": "markdown",
      "metadata": {
        "id": "AFmwBDdVwCZs",
        "colab_type": "text"
      },
      "source": [
        "## Initialize Population"
      ]
    },
    {
      "cell_type": "code",
      "metadata": {
        "id": "nhbSYABBwARL",
        "colab_type": "code",
        "colab": {}
      },
      "source": [
        "################################################################################\n",
        "#\n",
        "#   Writes the initial_image and goal_imate to a JSON file. Initializes the \n",
        "#   population of candidates with a size of population_size. Writes this \n",
        "#   population to the JSON file.\n",
        "#\n",
        "#   The JSON file is called \"CellularAutomata.json\"\n",
        "#   \n",
        "#\n",
        "#   Parameters:\n",
        "#   initial_image - the greyscale image \"binaryhand.png\"\n",
        "#   population_size - an integer defining how many rules tables to generate\n",
        "#\n",
        "################################################################################\n",
        "def initialize_population(initial_image, population_size=3, bonus=True):\n",
        "    new_population = []\n",
        "    random_truth_table = []\n",
        "    if bonus == False:\n",
        "      a = np.array([[random.uniform(0.25, 1.5), 0.0],\n",
        "                [0.0, random.uniform(0.25, 1.5)]])\n",
        "    \n",
        "      M, N = initial_image.shape\n",
        "      points = np.mgrid[0:N, 0:M].reshape((2, M*N))\n",
        "      new_points = np.linalg.inv(a).dot(points).round().astype(int)\n",
        "      x, y = new_points.reshape((2, M, N), order='F')\n",
        "      indices = x + N*y\n",
        "\n",
        "      transformed_image = np.take(initial_image, indices, mode='wrap')\n",
        "      goal_image = cv2.Canny(transformed_image, 256, 256)\n",
        "\n",
        "      new_population.append(transformed_image.tolist())\n",
        "      new_population.append(goal_image.tolist())\n",
        "\n",
        "    elif bonus == True:\n",
        "      for x_pixel in range(len(initial_image)):\n",
        "        for y_pixel in range(len(initial_image[0])):\n",
        "          if initial_image[x_pixel][y_pixel] < 128:\n",
        "            initial_image[x_pixel][y_pixel] = 0\n",
        "          elif initial_image[x_pixel][y_pixel] >= 128:\n",
        "            initial_image[x_pixel][y_pixel] = 255\n",
        "      \n",
        "      goal_image = cv2.Canny(initial_image, len(initial_image), len(initial_image[0]))\n",
        "\n",
        "      new_population.append(initial_image.tolist())\n",
        "      new_population.append(goal_image.tolist())\n",
        "\n",
        "    for individual in range(population_size):\n",
        "      random_truth_table= list()\n",
        "      for bit in range(512):\n",
        "        key = format(bit, 'b')\n",
        "        while len(key) != 9:\n",
        "          key = \"0\" + key\n",
        "        random_truth_table.append({key: np.random.randint(2)})\n",
        "      new_population.append(random_truth_table)\n",
        "    \n",
        "    with open(\"CellularAutomata.json\", 'w') as o:\n",
        "      o.write(json.dumps(new_population))"
      ],
      "execution_count": 0,
      "outputs": []
    },
    {
      "cell_type": "code",
      "metadata": {
        "id": "qv25exYAwU27",
        "colab_type": "code",
        "colab": {}
      },
      "source": [
        "initial_image = cv2.imread(\"apple.png\", 0)\n",
        "\n",
        "initialize_population(initial_image, population_size =10, bonus = True)\n",
        "\n",
        "with open(\"CellularAutomata.json\",'r') as f:\n",
        "  population = json.loads(f.read());"
      ],
      "execution_count": 0,
      "outputs": []
    },
    {
      "cell_type": "markdown",
      "metadata": {
        "id": "UmQXi3xSZtdA",
        "colab_type": "text"
      },
      "source": [
        "## Main Code"
      ]
    },
    {
      "cell_type": "code",
      "metadata": {
        "id": "2GoC5chZZv4f",
        "colab_type": "code",
        "outputId": "d9a2e230-e8ba-40c7-fc15-cdddd57d2c16",
        "colab": {
          "base_uri": "https://localhost:8080/",
          "height": 1000
        }
      },
      "source": [
        "#############################################################################################################\n",
        "#############################################################################################################\n",
        "#############################################################################################################\n",
        "#\n",
        "#   Parameters that will help understand the code.\n",
        "#\n",
        "#   1)a_start = binary of the start image\n",
        "#   2)a_goal = binary of the goal image\n",
        "#   3)total_points = total number of points in the image array . Provides flexibility\n",
        "#   in mutation when any other image is passed . Basically it is to CONSIDER THE BONUS PART\n",
        "#   4)rules = list of rules . Basically individuals , but just containing the rules ,\n",
        "#   not the corresponding binary number.\n",
        "#   5)Best values in each GA :- \n",
        "#       - ga_best_fitness\n",
        "#       - ga_best_solution :- resulting array on applying the individual to the start array .\n",
        "#       - ga_best_individuals\n",
        "#   6)Survivor in each GA :- \n",
        "#       - ga_fitness\n",
        "#       - ga_solutions\n",
        "#       - ga_individuals\n",
        "#   7)see_start = binary to greyscale of the solution to visualize it. \n",
        "#   8)see_goal = binary to greyscale of the solution to visualize it. \n",
        "#\n",
        "#############################################################################################################\n",
        "#############################################################################################################\n",
        "#############################################################################################################\n",
        "start_time = time.clock()\n",
        "\n",
        "with open(\"CellularAutomata.json\",'r') as f:\n",
        "  population = json.loads(f.read());\n",
        "\n",
        "a_start,a_goal = binary_image(population) \n",
        "fit_start = calculate_fitness(a_start,a_goal)\n",
        "print(\"Fitness before applying rules :- \", fit_start)\n",
        "\n",
        "total_points = len(a_start) * len(a_start[0])\n",
        "#total_ones = np.count_nonzero(a_goal == 1)\n",
        "\n",
        "rules = ind_fetch(population)\n",
        "\n",
        "ind_count = (len(population)-2)\n",
        "ga_best_fitness = []\n",
        "ga_best_solution = []\n",
        "ga_best_individuals = []\n",
        "ga_fitness = [] \n",
        "ga_solutions = [] \n",
        "ga_individuals = []\n",
        "avg_ga_fitness = []\n",
        "\n",
        "generations = 5 \n",
        "for g in range(generations):\n",
        "  ind_fit = []\n",
        "  ind_solutions = [None] * ind_count\n",
        "  for k in range(0,ind_count): #running the loop for all individuals\n",
        "    passes = 10\n",
        "    target = copy.deepcopy(a_start)\n",
        "    for p in range(passes):\n",
        "      result_array = window_slider(target,rules,k)\n",
        "    ind_solutions[k] = result_array\n",
        "    #print(\"Goal image is :- \", a_goal , sep=\"\\n\")\n",
        "    #print(\"Final Array :- \" , ind_solutions[k], sep=\"\\n\")\n",
        "    ind_fit.append(calculate_fitness(ind_solutions[k],a_goal))\n",
        "\n",
        "  print(\"The fitness for all the individuals is :- \" , ind_fit)\n",
        "\n",
        "  fitness_pool = copy.deepcopy(ind_fit)\n",
        "  ind_pool = copy.deepcopy(rules)\n",
        "\n",
        "\n",
        "  ##Once the fitness is calculated , do the parent selection  and then apply apply the variation operators . \n",
        "  ## i.e. Elite + random  parent selection\n",
        "\n",
        "  ##Parent selection :- Select two parents with best fitness and one parent randomly. \n",
        "\n",
        "  elite_parents = 2\n",
        "  random_parents = 2\n",
        "  elite_pool = [None] * elite_parents\n",
        "  random_pool = [None] * random_parents\n",
        "  parent_pool = [None] * elite_parents + [None] * random_parents\n",
        "  parent_fitness = []\n",
        "\n",
        "  for i in range(0,elite_parents):\n",
        "\n",
        "    min_fitness = min(fitness_pool)\n",
        "    print(\"Fitness was :- \" , min_fitness)\n",
        "    parent_fitness.append(min_fitness)\n",
        "    fit_index = fitness_pool.index(min_fitness)\n",
        "    fitness_pool.remove(min_fitness)\n",
        "    elite_pool[i] = ind_pool.pop(fit_index)\n",
        "\n",
        "\n",
        "  for j in range(0,random_parents):\n",
        "    s = random.choices(fitness_pool , k = 1)\n",
        "    parent_fitness.append(s[0])\n",
        "    fit_index = fitness_pool.index(s[0])\n",
        "    fitness_pool.remove(s[0])\n",
        "    random_pool[j] = ind_pool.pop(fit_index)\n",
        "\n",
        "  \n",
        "  parent_pool = elite_pool + random_pool\n",
        "\n",
        "  #Performing crossover\n",
        "\n",
        "  offspring_pool = []\n",
        "  for p in range(len(parent_pool)-2):\n",
        "    parent = random.sample(parent_pool,2)\n",
        "    parent1 = parent[0]\n",
        "    parent2 = parent[1]\n",
        "    print(parent1)\n",
        "    print(parent2)\n",
        "    parent_pool.remove(parent[0])\n",
        "    parent_pool.remove(parent[1])\n",
        "    #o1 , o2 = xover1(parent1 , parent2)\n",
        "    o1 , o2 = xover2(parent1 , parent2)\n",
        "    offspring_pool.append(o1)\n",
        "    offspring_pool.append(o2)\n",
        "\n",
        "  print(\"Offsprings after xover :- \" , offspring_pool)\n",
        "  offspring_fitness = []\n",
        "\n",
        "  #Calculating fitness after performing crossover\n",
        "\n",
        "  offspring_solutions = [None] * len(offspring_pool)\n",
        "  for i in range(len(offspring_pool)):\n",
        "    trial_start = copy.deepcopy(a_start)\n",
        "    for p in range(5):\n",
        "      trial_start = window_slider(trial_start,offspring_pool,i)\n",
        "    offspring_solutions[i] = trial_start\n",
        "    o_fit = calculate_fitness(offspring_solutions[i], a_goal)\n",
        "    offspring_fitness.append(o_fit)\n",
        "\n",
        "  print(\"Fitness after xover :- \", offspring_fitness)\n",
        "\n",
        "  ## Performing non-uniform mutation with constraints\n",
        "\n",
        "  mut_min = min(offspring_fitness)\n",
        "  for i in range(len(offspring_fitness)):\n",
        "      offspring_pool[i] = mutation1(offspring_fitness[i],offspring_pool[i],total_points,mut_min)\n",
        "      #offspring_pool[i] = mutation2(offspring_fitness[i],offspring_pool[i],)\n",
        "\n",
        "  ##Calculating fitness after performing mutation\n",
        "\n",
        "  offspring_solutions , offspring_fitness = fitness_evaluator(offspring_pool,a_start,a_goal)\n",
        "\n",
        "  print(\"Fitness after mutation :- \" , offspring_fitness)\n",
        "\n",
        "\n",
        "  #Survivor selection\n",
        "\n",
        "  next_gen = len(rules)\n",
        "\n",
        "  survivor_pool = [None] * next_gen\n",
        "  survivor_fitness = [None] * next_gen\n",
        "  survivor_solutions = [None] * next_gen\n",
        "  fit_select = copy.deepcopy(ind_fit + offspring_fitness)\n",
        "  sur_select = copy.deepcopy(rules + offspring_pool)\n",
        "  sol_select = copy.deepcopy(ind_solutions + offspring_solutions)\n",
        "\n",
        "  offspring_fitness.remove(min(offspring_fitness))\n",
        "  selector = int(len(survivor_pool)*20 / 100) \n",
        "  \n",
        "  for i in range(len(survivor_pool)-selector):\n",
        "    fit_min = min(fit_select)  \n",
        "    var = fit_select.index(fit_min)\n",
        "    survivor_pool[i] = sur_select.pop(var)\n",
        "    survivor_fitness[i] = fit_select.pop(var)\n",
        "    survivor_solutions[i] = sol_select.pop(var)\n",
        "  \n",
        "  for j in range(len(survivor_pool)-selector , len(survivor_pool)):\n",
        "    var1 = randint(0,len(fit_select)-1)\n",
        "    survivor_pool[j] = sur_select.pop(var1)\n",
        "    survivor_fitness[j] = fit_select.pop(var1)\n",
        "    survivor_solutions[j] = sol_select.pop(var1)\n",
        "\n",
        "  \n",
        "  rules = survivor_pool\n",
        "\n",
        "  print(\"Fitnesses in GA \" , g , \" are :- \" , survivor_fitness )\n",
        "  print(sep=\"\\n\")\n",
        "  print(\"**********************END OF GA \", g , \"*************************\")\n",
        "  print(sep=\"\\n\\n\")\n",
        "  best_fitness = min(survivor_fitness)\n",
        "  best_indx = survivor_fitness.index(best_fitness)\n",
        "  best_solution = survivor_solutions[best_indx]\n",
        "  best_individual = survivor_pool[best_indx]\n",
        "  ga_best_fitness.append(best_fitness)\n",
        "  ga_best_solution.append(best_solution)\n",
        "  ga_best_individuals.append(best_individual)\n",
        "  ga_fitness.append(survivor_fitness) \n",
        "  ga_individuals.append(survivor_pool)\n",
        "  ga_solutions.append(survivor_solutions)\n",
        "\n",
        "\n",
        "    \n",
        "print(\"GA best fitnesses are :- \" , ga_best_fitness)\n",
        "\n",
        "t = 0.5\n",
        "min_of_all = min(ga_best_fitness)\n",
        "print(\"The solution with best fitness is :- \" , min_of_all)\n",
        "min_indx = ga_best_fitness.index(min_of_all)\n",
        "print(\"The solution is :- \" , ga_best_solution[min_indx] , sep=\"\\n\")\n",
        "print(\"The individua is :- \" , ga_best_individuals[min_indx] , sep=\"\\n\")\n",
        "see_goal = cv2.threshold(a_goal,t,255,cv2.THRESH_BINARY)\n",
        "see_final = cv2.threshold(ga_best_solution[min_indx],t,255,cv2.THRESH_BINARY)\n",
        "print(\"The goal image is :- \" , sep=\"\\n\")\n",
        "visualize_image(see_goal[1])\n",
        "print(\"The final image is :- \" , sep=\"\\n\")\n",
        "visualize_image(see_final[1])\n",
        "\n",
        "\n",
        "x1 = np.arange(0,generations , 1)\n",
        "x2 = np.arange(0,len(ga_fitness[0]) , 1)\n",
        "\n",
        "\n",
        "plt.plot(x1 , ga_best_fitness , 'bs')\n",
        "plt.xlabel('Generation')\n",
        "plt.ylabel('Best Fitness In Each GA')\n",
        "plt.show()\n",
        "\n",
        "for i in range(len(ga_fitness)):\n",
        "  avg = sum(ga_fitness[i]) / len(ga_fitness[i])\n",
        "  avg_ga_fitness.append(avg)\n",
        "\n",
        "plt.plot(x1[0], avg_ga_fitness[0], 'r^', x1[1], avg_ga_fitness[1], 'b^', x1[2], avg_ga_fitness[2],\\\n",
        "         'g^' , x1[3], avg_ga_fitness[3], 'rs', x1[4], avg_ga_fitness[4], 'bs')\n",
        "\n",
        "plt.xlabel('Generations')\n",
        "plt.ylabel('Avg Fitness')\n",
        "plt.show()\n",
        "\n",
        "plt.figure()\n",
        "plt.subplot(511)\n",
        "plt.plot(x2, ga_fitness[0], 'rs')\n",
        "plt.xlabel('Generations')\n",
        "plt.ylabel('Fitness of individuals')\n",
        "plt.show()\n",
        "\n",
        "plt.subplot(512)\n",
        "plt.plot(x2, ga_fitness[1], 'gs')\n",
        "plt.xlabel('Generations')\n",
        "plt.ylabel('Fitness of individuals')\n",
        "plt.show()\n",
        "\n",
        "plt.subplot(513)\n",
        "plt.plot(x2, ga_fitness[2], 'bs')\n",
        "plt.xlabel('Generations')\n",
        "plt.ylabel('Fitness of individuals')\n",
        "plt.show()\n",
        "\n",
        "plt.subplot(514)\n",
        "plt.plot(x2, ga_fitness[3], 'r^')\n",
        "plt.xlabel('Generations')\n",
        "plt.ylabel('Fitness of individuals')\n",
        "plt.show()\n",
        "\n",
        "plt.subplot(515)\n",
        "plt.plot(x2, ga_fitness[4], 'g^')\n",
        "plt.xlabel('Generations')\n",
        "plt.ylabel('Fitness of individuals')\n",
        "plt.show()\n",
        "\n",
        "\n",
        "\n",
        "time_taken = time.clock() - start_time\n",
        "print(\"Execution time till here was :- \" , time_taken)\n",
        "\n"
      ],
      "execution_count": 0,
      "outputs": [
        {
          "output_type": "stream",
          "text": [
            "Fitness before applying rules :-  5077\n",
            "The fitness for all the individuals is :-  [19374, 18711, 17765, 18199, 17782, 19113, 18541, 19035, 17382, 19136]\n",
            "Fitness was :-  17382\n",
            "Fitness was :-  17765\n",
            "[0, 0, 1, 1, 0, 0, 0, 1, 0, 1, 0, 0, 0, 0, 1, 0, 1, 0, 0, 0, 1, 0, 0, 1, 0, 0, 0, 1, 0, 0, 0, 0, 1, 0, 1, 0, 0, 0, 1, 0, 0, 1, 1, 0, 1, 0, 0, 0, 1, 1, 0, 0, 1, 1, 0, 1, 1, 1, 0, 1, 1, 1, 0, 0, 1, 1, 0, 0, 0, 1, 0, 0, 0, 1, 1, 1, 0, 1, 0, 1, 0, 1, 1, 1, 1, 1, 0, 0, 1, 1, 0, 0, 0, 1, 1, 0, 1, 0, 1, 1, 0, 1, 1, 0, 0, 1, 1, 0, 0, 0, 1, 0, 1, 0, 1, 0, 0, 1, 1, 0, 0, 0, 0, 1, 0, 1, 1, 0, 0, 1, 0, 0, 0, 0, 0, 1, 1, 1, 1, 0, 1, 1, 0, 1, 1, 1, 0, 0, 0, 0, 0, 1, 1, 1, 1, 0, 0, 0, 0, 0, 0, 1, 1, 0, 0, 1, 1, 1, 1, 1, 1, 0, 1, 1, 1, 0, 0, 0, 1, 0, 1, 1, 0, 1, 0, 0, 0, 1, 0, 0, 1, 0, 0, 0, 0, 1, 0, 0, 0, 0, 1, 0, 1, 0, 1, 1, 1, 0, 0, 1, 0, 0, 1, 1, 0, 1, 1, 0, 0, 0, 1, 0, 0, 1, 1, 1, 0, 0, 1, 1, 0, 1, 1, 0, 1, 0, 0, 0, 0, 1, 0, 0, 1, 1, 1, 1, 1, 1, 0, 0, 0, 1, 1, 1, 0, 0, 1, 0, 1, 0, 1, 0, 1, 0, 1, 1, 1, 1, 1, 0, 1, 0, 0, 0, 1, 0, 1, 0, 1, 1, 1, 0, 1, 1, 0, 0, 1, 1, 1, 1, 1, 1, 1, 1, 1, 1, 0, 0, 1, 0, 1, 1, 1, 1, 1, 0, 1, 1, 0, 0, 0, 1, 0, 0, 1, 1, 0, 0, 0, 0, 0, 1, 1, 1, 1, 1, 1, 1, 1, 0, 1, 1, 0, 0, 0, 0, 1, 1, 0, 1, 0, 0, 0, 0, 0, 0, 0, 0, 0, 0, 1, 0, 0, 1, 0, 1, 1, 1, 0, 1, 0, 0, 0, 0, 0, 1, 0, 0, 0, 0, 0, 0, 0, 0, 1, 0, 1, 0, 1, 0, 0, 0, 1, 0, 0, 1, 1, 0, 0, 0, 0, 0, 1, 0, 1, 1, 0, 0, 0, 0, 1, 0, 0, 1, 0, 0, 0, 0, 0, 0, 1, 0, 1, 0, 0, 0, 0, 0, 1, 0, 0, 0, 1, 0, 0, 0, 0, 1, 1, 0, 1, 1, 1, 0, 0, 1, 0, 1, 1, 0, 0, 0, 0, 0, 0, 0, 1, 0, 0, 0, 1, 0, 1, 0, 0, 0, 1, 0, 0, 1, 1, 1, 0, 0, 0, 1, 1, 0, 0, 0, 0, 1, 1, 1, 1, 0, 1, 0, 0, 1, 1, 0, 0, 0, 1, 0, 0, 1, 0, 1, 0, 0, 1, 0, 1, 1, 1, 1, 0, 0, 1, 1, 0, 0, 0, 1, 0, 1, 1, 1, 1, 0]\n",
            "[1, 1, 1, 1, 1, 0, 1, 0, 0, 0, 0, 0, 1, 0, 1, 0, 1, 0, 0, 1, 0, 0, 1, 1, 1, 1, 0, 0, 0, 1, 1, 1, 1, 1, 0, 1, 0, 1, 0, 1, 0, 1, 1, 0, 1, 0, 0, 1, 1, 0, 1, 1, 1, 0, 1, 0, 0, 0, 1, 0, 1, 0, 0, 1, 1, 1, 1, 1, 1, 1, 0, 1, 1, 0, 0, 0, 0, 0, 0, 1, 1, 0, 1, 1, 1, 0, 0, 1, 1, 1, 1, 0, 1, 0, 0, 0, 1, 1, 1, 1, 1, 0, 1, 1, 1, 1, 0, 0, 1, 0, 1, 1, 1, 1, 0, 0, 0, 0, 0, 0, 0, 0, 0, 0, 0, 1, 1, 0, 0, 0, 1, 0, 0, 0, 1, 0, 1, 1, 1, 0, 1, 1, 1, 1, 1, 0, 0, 1, 1, 1, 0, 1, 0, 0, 1, 0, 1, 0, 1, 1, 1, 1, 1, 1, 0, 0, 0, 0, 0, 0, 1, 0, 0, 1, 0, 0, 1, 0, 1, 1, 1, 0, 0, 0, 1, 1, 0, 0, 0, 0, 0, 1, 1, 1, 1, 0, 1, 0, 0, 0, 1, 1, 0, 0, 1, 0, 1, 1, 1, 0, 0, 1, 1, 1, 1, 0, 1, 0, 1, 0, 0, 1, 0, 1, 1, 1, 1, 1, 1, 1, 0, 0, 0, 1, 0, 1, 1, 1, 1, 0, 1, 0, 0, 0, 0, 0, 1, 1, 0, 0, 1, 1, 1, 0, 0, 0, 0, 1, 0, 0, 0, 1, 1, 1, 1, 0, 1, 0, 0, 1, 0, 1, 0, 0, 0, 0, 1, 0, 1, 0, 0, 1, 1, 1, 0, 1, 0, 0, 1, 0, 1, 1, 1, 0, 1, 0, 1, 0, 1, 1, 0, 1, 0, 1, 0, 0, 0, 1, 1, 1, 0, 0, 1, 0, 1, 1, 1, 0, 0, 1, 0, 1, 1, 0, 1, 1, 1, 0, 1, 1, 1, 0, 1, 0, 1, 0, 0, 1, 1, 1, 1, 0, 1, 0, 1, 0, 1, 0, 0, 0, 1, 1, 0, 0, 1, 1, 0, 0, 1, 1, 0, 0, 1, 0, 1, 0, 0, 1, 1, 0, 1, 0, 1, 0, 1, 0, 1, 1, 0, 1, 0, 1, 0, 0, 0, 0, 0, 1, 1, 1, 1, 1, 1, 0, 0, 0, 1, 0, 1, 1, 0, 1, 1, 1, 0, 0, 1, 1, 0, 1, 0, 1, 0, 1, 0, 1, 0, 1, 0, 1, 1, 0, 0, 1, 1, 1, 0, 1, 1, 1, 1, 1, 1, 1, 1, 0, 1, 0, 1, 1, 0, 0, 0, 0, 0, 1, 0, 0, 1, 0, 0, 1, 0, 1, 0, 1, 1, 0, 0, 0, 0, 0, 0, 0, 0, 1, 0, 0, 0, 0, 1, 1, 1, 1, 1, 0, 0, 0, 0, 0, 1, 0, 0, 1, 1, 0, 1, 0, 0, 1, 1, 1, 1, 0, 1, 1, 0, 0, 1, 0, 1, 1, 0, 0, 0, 1, 0, 1, 0, 0, 1, 1]\n",
            "Xover points are :-  126  and  378\n",
            "[1, 1, 1, 1, 1, 1, 0, 1, 0, 0, 0, 0, 0, 1, 0, 1, 0, 0, 0, 0, 1, 1, 0, 0, 1, 1, 1, 1, 0, 0, 1, 1, 0, 1, 0, 1, 0, 0, 1, 0, 1, 1, 0, 0, 0, 0, 0, 1, 0, 0, 1, 0, 1, 0, 0, 1, 0, 1, 0, 0, 0, 0, 0, 0, 1, 1, 1, 0, 1, 1, 1, 0, 1, 1, 1, 1, 0, 0, 1, 0, 1, 1, 1, 1, 1, 1, 0, 1, 1, 1, 0, 1, 1, 0, 0, 0, 1, 0, 0, 1, 1, 1, 0, 1, 1, 1, 0, 0, 0, 0, 1, 0, 1, 0, 1, 1, 0, 1, 0, 1, 0, 1, 0, 0, 0, 1, 1, 1, 1, 1, 1, 1, 1, 1, 1, 0, 0, 1, 1, 0, 1, 0, 1, 1, 0, 1, 0, 0, 0, 0, 1, 1, 1, 1, 1, 0, 1, 0, 0, 0, 1, 0, 0, 0, 1, 0, 0, 1, 1, 0, 1, 0, 0, 1, 1, 1, 1, 1, 0, 0, 0, 1, 0, 0, 0, 1, 0, 0, 1, 1, 1, 0, 1, 1, 0, 1, 1, 1, 0, 0, 1, 1, 1, 0, 0, 1, 0, 0, 0, 0, 1, 0, 0, 0, 1, 1, 1, 0, 1, 0, 0, 0, 0, 0, 0, 1, 0, 1, 0, 1, 0, 0, 1, 1, 1, 0, 0, 1, 1, 0, 1, 1, 0, 0, 0, 0, 0, 0, 0, 1, 1, 1, 1, 1, 1, 0, 0, 0, 1, 1, 0, 0, 1, 1, 0, 1, 1, 1, 1, 1, 1, 0, 1, 1, 1, 0, 0, 1, 0, 0, 1, 0, 0, 0, 0, 1, 0, 0, 0, 0, 1, 1, 1, 0, 1, 0, 1, 1, 1, 1, 0, 0, 0, 0, 1, 0, 1, 1, 1, 1, 1, 0, 0, 0, 1, 1, 1, 0, 0, 1, 0, 1, 0, 1, 0, 0, 1, 1, 1, 1, 0, 1, 0, 1, 1, 1, 0, 0, 0, 1, 1, 1, 1, 0, 0, 0, 0, 0, 0, 1, 1, 0, 0, 0, 0, 0, 0, 1, 0, 0, 1, 1, 1, 1, 0, 1, 0, 0, 0, 0, 0, 1, 1, 1, 0, 1, 0, 0, 0, 1, 1, 0, 1, 1, 1, 0, 0, 1, 0, 1, 0, 1, 0, 0, 1, 0, 0, 1, 0, 1, 1, 1, 1, 0, 1, 0, 1, 1, 1, 1, 0, 1, 1, 0, 0, 0, 0, 1, 0, 0, 1, 1, 1, 1, 0, 0, 1, 1, 0, 0, 0, 1, 1, 0, 1, 0, 1, 0, 1, 0, 0, 1, 0, 0, 1, 0, 1, 0, 0, 0, 1, 1, 1, 1, 0, 1, 1, 0, 0, 1, 0, 0, 1, 1, 0, 1, 1, 0, 1, 1, 0, 0, 0, 1, 1, 1, 1, 1, 1, 0, 0, 1, 0, 0, 1, 1, 0, 0, 0, 1, 0, 1, 0, 1, 0, 0, 1, 0, 1, 1, 0, 0, 1, 0, 1, 1, 1, 1, 0, 1, 1, 1]\n",
            "[1, 0, 1, 0, 0, 0, 0, 1, 1, 0, 0, 1, 1, 1, 1, 1, 1, 0, 0, 0, 1, 0, 1, 0, 0, 0, 0, 0, 1, 1, 0, 0, 0, 0, 0, 1, 1, 0, 0, 0, 0, 0, 0, 0, 0, 0, 1, 1, 1, 1, 1, 1, 1, 0, 1, 0, 0, 0, 0, 0, 0, 1, 1, 1, 1, 1, 0, 0, 0, 0, 0, 0, 0, 0, 1, 0, 1, 0, 0, 1, 1, 1, 1, 0, 1, 1, 0, 0, 1, 1, 0, 1, 1, 0, 1, 1, 0, 1, 0, 0, 0, 1, 1, 1, 0, 0, 0, 0, 1, 0, 1, 0, 0, 0, 1, 1, 0, 0, 0, 1, 1, 0, 1, 0, 0, 1, 0, 1, 0, 0, 1, 1, 1, 0, 0, 0, 0, 1, 0, 1, 0, 0, 1, 0, 0, 0, 1, 0, 1, 1, 0, 0, 1, 0, 0, 1, 1, 0, 1, 1, 0, 1, 0, 1, 1, 0, 0, 1, 1, 0, 0, 0, 0, 0, 1, 1, 0, 0, 0, 0, 0, 0, 1, 0, 0, 1, 0, 1, 1, 1, 0, 1, 0, 0, 0, 0, 1, 1, 0, 0, 0, 1, 0, 0, 0, 1, 1, 0, 1, 1, 0, 0, 1, 1, 1, 0, 1, 1, 1, 0, 0, 1, 1, 0, 1, 0, 1, 1, 0, 0, 0, 0, 0, 1, 1, 0, 0, 0, 0, 1, 1, 1, 1, 0, 0, 1, 0, 0, 1, 1, 0, 0, 0, 1, 0, 1, 0, 1, 1, 0, 0, 0, 1, 0, 1, 0, 0, 1, 0, 0, 1, 1, 1, 0, 0, 0, 0, 1, 1, 1, 0, 1, 0, 0, 1, 1, 0, 1, 0, 1, 0, 0, 1, 0, 1, 1, 0, 1, 0, 1, 1, 0, 0, 1, 0, 1, 1, 1, 1, 0, 1, 0, 1, 1, 1, 0, 1, 0, 0, 1, 0, 0, 1, 1, 0, 1, 0, 0, 1, 1, 1, 1, 1, 1, 1, 1, 1, 0, 0, 0, 0, 0, 1, 0, 1, 1, 1, 0, 1, 0, 0, 1, 0, 0, 0, 1, 1, 0, 1, 1, 0, 1, 0, 1, 1, 0, 0, 1, 0, 0, 1, 1, 1, 1, 0, 0, 1, 0, 1, 0, 0, 1, 1, 1, 1, 1, 0, 0, 0, 0, 1, 1, 0, 1, 1, 0, 1, 1, 1, 0, 1, 0, 1, 1, 0, 1, 1, 1, 1, 0, 0, 0, 0, 1, 0, 0, 0, 0, 0, 1, 0, 1, 1, 1, 1, 0, 1, 0, 1, 1, 0, 1, 1, 0, 1, 1, 0, 0, 1, 0, 0, 1, 0, 0, 0, 0, 1, 1, 0, 1, 1, 1, 0, 0, 0, 1, 1, 1, 1, 1, 0, 0, 1, 1, 0, 1, 0, 1, 1, 0, 0, 1, 0, 0, 1, 0, 1, 1, 0, 1, 1, 0, 1, 1, 0, 0, 1, 1, 1, 0, 0, 1, 1, 0, 0, 0, 1, 0, 1, 1, 1, 0, 0, 1, 1, 0, 0, 0, 1, 1, 1, 0]\n",
            "Xover points are :-  112  and  455\n",
            "Offsprings after xover :-  [[0, 0, 1, 1, 0, 0, 0, 1, 0, 1, 0, 0, 0, 0, 1, 0, 1, 0, 0, 0, 1, 0, 0, 1, 0, 0, 0, 1, 0, 0, 0, 0, 1, 0, 1, 0, 0, 0, 1, 0, 0, 1, 1, 0, 1, 0, 0, 0, 1, 1, 0, 0, 1, 1, 0, 1, 1, 1, 0, 1, 1, 1, 0, 0, 1, 1, 0, 0, 0, 1, 0, 0, 0, 1, 1, 1, 0, 1, 0, 1, 0, 1, 1, 1, 1, 1, 0, 0, 1, 1, 0, 0, 0, 1, 1, 0, 1, 0, 1, 1, 0, 1, 1, 0, 0, 1, 1, 0, 0, 0, 1, 0, 1, 0, 1, 0, 0, 1, 1, 0, 0, 0, 0, 1, 0, 1, 1, 0, 0, 0, 1, 0, 0, 0, 1, 0, 1, 1, 1, 0, 1, 1, 1, 1, 1, 0, 0, 1, 1, 1, 0, 1, 0, 0, 1, 0, 1, 0, 1, 1, 1, 1, 1, 1, 0, 0, 0, 0, 0, 0, 1, 0, 0, 1, 0, 0, 1, 0, 1, 1, 1, 0, 0, 0, 1, 1, 0, 0, 0, 0, 0, 1, 1, 1, 1, 0, 1, 0, 0, 0, 1, 1, 0, 0, 1, 0, 1, 1, 1, 0, 0, 1, 1, 1, 1, 0, 1, 0, 1, 0, 0, 1, 0, 1, 1, 1, 1, 1, 1, 1, 0, 0, 0, 1, 0, 1, 1, 1, 1, 0, 1, 0, 0, 0, 0, 0, 1, 1, 0, 0, 1, 1, 1, 0, 0, 0, 0, 1, 0, 0, 0, 1, 1, 1, 1, 0, 1, 0, 0, 1, 0, 1, 0, 0, 0, 0, 1, 0, 1, 0, 0, 1, 1, 1, 0, 1, 0, 0, 1, 0, 1, 1, 1, 0, 1, 0, 1, 0, 1, 1, 0, 1, 0, 1, 0, 0, 0, 1, 1, 1, 0, 0, 1, 0, 1, 1, 1, 0, 0, 1, 0, 1, 1, 0, 1, 1, 1, 0, 1, 1, 1, 0, 1, 0, 1, 0, 0, 1, 1, 1, 1, 0, 1, 0, 1, 0, 1, 0, 0, 0, 1, 1, 0, 0, 1, 1, 0, 0, 1, 1, 0, 0, 1, 0, 1, 0, 0, 1, 1, 0, 1, 0, 1, 0, 1, 0, 1, 1, 1, 0, 0, 0, 1, 0, 0, 1, 1, 0, 0, 0, 0, 0, 1, 0, 1, 1, 0, 0, 0, 0, 1, 0, 0, 1, 0, 0, 0, 0, 0, 0, 1, 0, 1, 0, 0, 0, 0, 0, 1, 0, 0, 0, 1, 0, 0, 0, 0, 1, 1, 0, 1, 1, 1, 0, 0, 1, 0, 1, 1, 0, 0, 0, 0, 0, 0, 0, 1, 0, 0, 0, 1, 0, 1, 0, 0, 0, 1, 0, 0, 1, 1, 1, 0, 0, 0, 1, 1, 0, 0, 0, 0, 1, 1, 1, 1, 0, 1, 0, 0, 1, 1, 0, 0, 0, 1, 0, 0, 1, 0, 1, 0, 0, 1, 0, 1, 1, 1, 1, 0, 0, 1, 1, 0, 0, 0, 1, 0, 1, 1, 1, 1, 0], [1, 1, 1, 1, 1, 0, 1, 0, 0, 0, 0, 0, 1, 0, 1, 0, 1, 0, 0, 1, 0, 0, 1, 1, 1, 1, 0, 0, 0, 1, 1, 1, 1, 1, 0, 1, 0, 1, 0, 1, 0, 1, 1, 0, 1, 0, 0, 1, 1, 0, 1, 1, 1, 0, 1, 0, 0, 0, 1, 0, 1, 0, 0, 1, 1, 1, 1, 1, 1, 1, 0, 1, 1, 0, 0, 0, 0, 0, 0, 1, 1, 0, 1, 1, 1, 0, 0, 1, 1, 1, 1, 0, 1, 0, 0, 0, 1, 1, 1, 1, 1, 0, 1, 1, 1, 1, 0, 0, 1, 0, 1, 1, 1, 1, 0, 0, 0, 0, 0, 0, 0, 0, 0, 0, 0, 1, 1, 0, 0, 1, 0, 0, 0, 0, 0, 1, 1, 1, 1, 0, 1, 1, 0, 1, 1, 1, 0, 0, 0, 0, 0, 1, 1, 1, 1, 0, 0, 0, 0, 0, 0, 1, 1, 0, 0, 1, 1, 1, 1, 1, 1, 0, 1, 1, 1, 0, 0, 0, 1, 0, 1, 1, 0, 1, 0, 0, 0, 1, 0, 0, 1, 0, 0, 0, 0, 1, 0, 0, 0, 0, 1, 0, 1, 0, 1, 1, 1, 0, 0, 1, 0, 0, 1, 1, 0, 1, 1, 0, 0, 0, 1, 0, 0, 1, 1, 1, 0, 0, 1, 1, 0, 1, 1, 0, 1, 0, 0, 0, 0, 1, 0, 0, 1, 1, 1, 1, 1, 1, 0, 0, 0, 1, 1, 1, 0, 0, 1, 0, 1, 0, 1, 0, 1, 0, 1, 1, 1, 1, 1, 0, 1, 0, 0, 0, 1, 0, 1, 0, 1, 1, 1, 0, 1, 1, 0, 0, 1, 1, 1, 1, 1, 1, 1, 1, 1, 1, 0, 0, 1, 0, 1, 1, 1, 1, 1, 0, 1, 1, 0, 0, 0, 1, 0, 0, 1, 1, 0, 0, 0, 0, 0, 1, 1, 1, 1, 1, 1, 1, 1, 0, 1, 1, 0, 0, 0, 0, 1, 1, 0, 1, 0, 0, 0, 0, 0, 0, 0, 0, 0, 0, 1, 0, 0, 1, 0, 1, 1, 1, 0, 1, 0, 0, 0, 0, 0, 1, 0, 0, 0, 0, 0, 0, 0, 0, 1, 0, 1, 0, 0, 1, 0, 1, 0, 0, 0, 0, 0, 1, 1, 1, 1, 1, 1, 0, 0, 0, 1, 0, 1, 1, 0, 1, 1, 1, 0, 0, 1, 1, 0, 1, 0, 1, 0, 1, 0, 1, 0, 1, 0, 1, 1, 0, 0, 1, 1, 1, 0, 1, 1, 1, 1, 1, 1, 1, 1, 0, 1, 0, 1, 1, 0, 0, 0, 0, 0, 1, 0, 0, 1, 0, 0, 1, 0, 1, 0, 1, 1, 0, 0, 0, 0, 0, 0, 0, 0, 1, 0, 0, 0, 0, 1, 1, 1, 1, 1, 0, 0, 0, 0, 0, 1, 0, 0, 1, 1, 0, 1, 0, 0, 1, 1, 1, 1, 0, 1, 1, 0, 0, 1, 0, 1, 1, 0, 0, 0, 1, 0, 1, 0, 0, 1, 1], [1, 1, 1, 1, 1, 1, 0, 1, 0, 0, 0, 0, 0, 1, 0, 1, 0, 0, 0, 0, 1, 1, 0, 0, 1, 1, 1, 1, 0, 0, 1, 1, 0, 1, 0, 1, 0, 0, 1, 0, 1, 1, 0, 0, 0, 0, 0, 1, 0, 0, 1, 0, 1, 0, 0, 1, 0, 1, 0, 0, 0, 0, 0, 0, 1, 1, 1, 0, 1, 1, 1, 0, 1, 1, 1, 1, 0, 0, 1, 0, 1, 1, 1, 1, 1, 1, 0, 1, 1, 1, 0, 1, 1, 0, 0, 0, 1, 0, 0, 1, 1, 1, 0, 1, 1, 1, 0, 0, 0, 0, 1, 0, 0, 0, 1, 1, 0, 0, 0, 1, 1, 0, 1, 0, 0, 1, 0, 1, 0, 0, 1, 1, 1, 0, 0, 0, 0, 1, 0, 1, 0, 0, 1, 0, 0, 0, 1, 0, 1, 1, 0, 0, 1, 0, 0, 1, 1, 0, 1, 1, 0, 1, 0, 1, 1, 0, 0, 1, 1, 0, 0, 0, 0, 0, 1, 1, 0, 0, 0, 0, 0, 0, 1, 0, 0, 1, 0, 1, 1, 1, 0, 1, 0, 0, 0, 0, 1, 1, 0, 0, 0, 1, 0, 0, 0, 1, 1, 0, 1, 1, 0, 0, 1, 1, 1, 0, 1, 1, 1, 0, 0, 1, 1, 0, 1, 0, 1, 1, 0, 0, 0, 0, 0, 1, 1, 0, 0, 0, 0, 1, 1, 1, 1, 0, 0, 1, 0, 0, 1, 1, 0, 0, 0, 1, 0, 1, 0, 1, 1, 0, 0, 0, 1, 0, 1, 0, 0, 1, 0, 0, 1, 1, 1, 0, 0, 0, 0, 1, 1, 1, 0, 1, 0, 0, 1, 1, 0, 1, 0, 1, 0, 0, 1, 0, 1, 1, 0, 1, 0, 1, 1, 0, 0, 1, 0, 1, 1, 1, 1, 0, 1, 0, 1, 1, 1, 0, 1, 0, 0, 1, 0, 0, 1, 1, 0, 1, 0, 0, 1, 1, 1, 1, 1, 1, 1, 1, 1, 0, 0, 0, 0, 0, 1, 0, 1, 1, 1, 0, 1, 0, 0, 1, 0, 0, 0, 1, 1, 0, 1, 1, 0, 1, 0, 1, 1, 0, 0, 1, 0, 0, 1, 1, 1, 1, 0, 0, 1, 0, 1, 0, 0, 1, 1, 1, 1, 1, 0, 0, 0, 0, 1, 1, 0, 1, 1, 0, 1, 1, 1, 0, 1, 0, 1, 1, 0, 1, 1, 1, 1, 0, 0, 0, 0, 1, 0, 0, 0, 0, 0, 1, 0, 1, 1, 1, 1, 0, 1, 0, 1, 1, 0, 1, 1, 0, 1, 1, 0, 0, 1, 0, 0, 1, 0, 0, 0, 0, 1, 1, 0, 1, 1, 1, 0, 0, 0, 1, 1, 0, 0, 1, 0, 0, 1, 1, 0, 1, 1, 0, 1, 1, 0, 0, 0, 1, 1, 1, 1, 1, 1, 0, 0, 1, 0, 0, 1, 1, 0, 0, 0, 1, 0, 1, 0, 1, 0, 0, 1, 0, 1, 1, 0, 0, 1, 0, 1, 1, 1, 1, 0, 1, 1, 1], [1, 0, 1, 0, 0, 0, 0, 1, 1, 0, 0, 1, 1, 1, 1, 1, 1, 0, 0, 0, 1, 0, 1, 0, 0, 0, 0, 0, 1, 1, 0, 0, 0, 0, 0, 1, 1, 0, 0, 0, 0, 0, 0, 0, 0, 0, 1, 1, 1, 1, 1, 1, 1, 0, 1, 0, 0, 0, 0, 0, 0, 1, 1, 1, 1, 1, 0, 0, 0, 0, 0, 0, 0, 0, 1, 0, 1, 0, 0, 1, 1, 1, 1, 0, 1, 1, 0, 0, 1, 1, 0, 1, 1, 0, 1, 1, 0, 1, 0, 0, 0, 1, 1, 1, 0, 0, 0, 0, 1, 0, 1, 0, 1, 0, 1, 1, 0, 1, 0, 1, 0, 1, 0, 0, 0, 1, 1, 1, 1, 1, 1, 1, 1, 1, 1, 0, 0, 1, 1, 0, 1, 0, 1, 1, 0, 1, 0, 0, 0, 0, 1, 1, 1, 1, 1, 0, 1, 0, 0, 0, 1, 0, 0, 0, 1, 0, 0, 1, 1, 0, 1, 0, 0, 1, 1, 1, 1, 1, 0, 0, 0, 1, 0, 0, 0, 1, 0, 0, 1, 1, 1, 0, 1, 1, 0, 1, 1, 1, 0, 0, 1, 1, 1, 0, 0, 1, 0, 0, 0, 0, 1, 0, 0, 0, 1, 1, 1, 0, 1, 0, 0, 0, 0, 0, 0, 1, 0, 1, 0, 1, 0, 0, 1, 1, 1, 0, 0, 1, 1, 0, 1, 1, 0, 0, 0, 0, 0, 0, 0, 1, 1, 1, 1, 1, 1, 0, 0, 0, 1, 1, 0, 0, 1, 1, 0, 1, 1, 1, 1, 1, 1, 0, 1, 1, 1, 0, 0, 1, 0, 0, 1, 0, 0, 0, 0, 1, 0, 0, 0, 0, 1, 1, 1, 0, 1, 0, 1, 1, 1, 1, 0, 0, 0, 0, 1, 0, 1, 1, 1, 1, 1, 0, 0, 0, 1, 1, 1, 0, 0, 1, 0, 1, 0, 1, 0, 0, 1, 1, 1, 1, 0, 1, 0, 1, 1, 1, 0, 0, 0, 1, 1, 1, 1, 0, 0, 0, 0, 0, 0, 1, 1, 0, 0, 0, 0, 0, 0, 1, 0, 0, 1, 1, 1, 1, 0, 1, 0, 0, 0, 0, 0, 1, 1, 1, 0, 1, 0, 0, 0, 1, 1, 0, 1, 1, 1, 0, 0, 1, 0, 1, 0, 1, 0, 0, 1, 0, 0, 1, 0, 1, 1, 1, 1, 0, 1, 0, 1, 1, 1, 1, 0, 1, 1, 0, 0, 0, 0, 1, 0, 0, 1, 1, 1, 1, 0, 0, 1, 1, 0, 0, 0, 1, 1, 0, 1, 0, 1, 0, 1, 0, 0, 1, 0, 0, 1, 0, 1, 0, 0, 0, 1, 1, 1, 1, 0, 1, 1, 1, 1, 1, 0, 0, 1, 1, 0, 1, 0, 1, 1, 0, 0, 1, 0, 0, 1, 0, 1, 1, 0, 1, 1, 0, 1, 1, 0, 0, 1, 1, 1, 0, 0, 1, 1, 0, 0, 0, 1, 0, 1, 1, 1, 0, 0, 1, 1, 0, 0, 0, 1, 1, 1, 0]]\n",
            "Fitness after xover :-  [17149, 18632, 18118, 18393]\n",
            "Index selected was :-  [273, 500, 151, 258, 86, 44, 40, 379, 368, 388, 413, 56, 91, 390, 184, 14, 191, 486, 8, 405, 440, 376, 468, 403, 31, 99, 434, 176, 226, 408, 355, 510, 442, 122, 291, 260, 502, 506, 73, 294, 183, 16, 346, 80, 363, 266, 439, 167, 426, 492, 275, 155, 118, 373, 433, 166, 424, 180, 305, 493, 230, 290, 391, 332, 195, 27, 272, 208, 447, 11, 177, 22, 342, 4, 341, 438, 302, 462, 287, 400, 137, 89, 475, 469, 511, 374, 369, 105, 250, 303, 270, 127, 467, 497, 9, 175, 466, 333, 123, 134, 489, 304, 296, 385, 26, 78, 139, 326, 222, 131, 454, 422, 389, 210, 399, 407, 481, 365, 375, 17, 107, 233, 436, 0, 188, 158, 289, 455, 71, 156, 372, 141, 199, 316, 55, 395, 378, 259, 115, 474, 496, 336, 282, 334, 253, 35, 113, 98, 327, 90, 25, 58, 5, 92, 219, 225, 157, 216, 150, 162, 202, 354, 204, 281, 94, 229, 119, 318, 10, 448, 298, 507, 319, 431, 430, 207, 198]\n",
            "Performing mutation\n",
            "Index selected was :-  [52, 112, 20, 496, 489, 479, 74, 189, 407, 17, 491, 346, 391, 294, 431, 258, 266, 242, 288, 392, 307, 84, 399, 505, 198, 250, 239, 49, 403, 214, 425, 3, 481, 340, 144, 139, 435, 362, 197, 279, 488, 178, 174, 339, 419, 229, 199, 208, 114, 283, 167, 385, 468, 46, 301, 165, 6, 305, 76, 204, 235, 45, 30, 15, 429, 261, 269, 449, 467, 159, 9, 443, 498, 393, 290, 247, 188, 177, 192, 166, 217, 39, 90, 209, 238, 102, 251, 260, 413, 351, 408, 94, 226, 207, 119, 191, 104, 85, 331, 146, 223, 433, 387, 147, 293, 315, 158, 82, 34, 297, 352, 12, 33, 312, 365, 396, 337, 300, 193, 173, 164, 150, 131, 439, 110, 326, 135, 314, 412, 120, 411, 311, 390, 482, 88, 453, 465, 329, 364, 240, 123, 336, 51, 276, 140, 41, 31, 358, 464, 360, 190, 151, 478, 121, 268, 77, 476, 510, 342, 182, 203, 494, 103, 500, 462, 400, 206, 138, 219, 68, 145, 444, 149, 343, 327, 304, 2, 99, 65, 298, 263, 96, 32, 97, 234, 446, 118, 201, 354, 415, 187, 377, 124]\n",
            "Performing mutation\n",
            "Index selected was :-  [190, 227, 163, 126, 397, 460, 489, 451, 285, 507, 409, 320, 69, 276, 136, 232, 434, 433, 231, 279, 313, 369, 292, 445, 274, 447, 208, 247, 83, 306, 422, 459, 501, 465, 109, 398, 110, 443, 176, 284, 333, 297, 100, 233, 480, 265, 205, 251, 10, 263, 371, 361, 52, 14, 195, 312, 29, 87, 461, 91, 24, 253, 25, 352, 131, 234, 488, 354, 316, 302, 193, 32, 56, 373, 33, 395, 167, 45, 184, 72, 141, 74, 137, 498, 51, 282, 152, 325, 355, 458, 403, 133, 156, 248, 175, 35, 157, 315, 424, 328, 166, 3, 413, 95, 304, 99, 123, 40, 377, 262, 332, 289, 418, 260, 281, 387, 412, 34, 509, 394, 401, 130, 4, 419, 185, 113, 303, 241, 216, 73, 444, 472, 486, 174, 450, 22, 449, 210, 319, 288, 218, 200, 294, 360, 179, 214, 103, 188, 487, 271, 5, 257, 81, 277, 92, 128, 228, 192, 151, 261, 278, 463, 116, 275, 30, 183, 204, 90, 86, 421, 129, 379, 503, 388, 55, 159, 446, 9, 399, 286, 106, 78, 392, 212, 351, 148, 437]\n",
            "Performing mutation\n",
            "Index selected was :-  [247, 74, 217, 511, 315, 207, 282, 27, 109, 453, 146, 45, 26, 353, 193, 86, 139, 501, 334, 225, 314, 259, 168, 11, 338, 435, 342, 493, 364, 161, 213, 456, 98, 16, 106, 246, 230, 96, 326, 54, 229, 70, 292, 245, 203, 451, 411, 296, 482, 19, 177, 357, 376, 329, 410, 104, 184, 335, 359, 172, 129, 402, 370, 17, 472, 148, 452, 432, 63, 113, 466, 318, 143, 204, 87, 51, 407, 64, 278, 134, 244, 299, 271, 181, 32, 83, 216, 185, 1, 264, 236, 153, 127, 84, 50, 122, 9, 455, 28, 138, 41, 309, 147, 275, 100, 497, 187, 365, 337, 445, 489, 36, 165, 496, 37, 68, 325, 422, 382, 158, 312, 164, 191, 392, 18, 85, 119, 232, 31, 40, 446, 72, 265, 297, 281, 223, 243, 285, 478, 412, 57, 300, 140, 21, 403, 75, 347, 183, 156, 397, 89, 283, 81, 505, 145, 461, 105, 492, 14, 409, 346, 123, 250, 248, 308, 490, 114, 427, 130, 48, 504, 192, 388, 8, 253, 91, 169, 241, 120, 286, 371, 404, 257, 267, 443, 433, 266, 6, 269, 272]\n",
            "Fitness after mutation :-  [24001, 14997, 12972, 18393]\n",
            "Fitnesses in GA  0  are :-  [12972, 14997, 17382, 17765, 17782, 18199, 18393, 18541, 18711, 19374]\n",
            "**********************END OF GA  0 *************************\n",
            "\n",
            "The fitness for all the individuals is :-  [13077, 13585, 17382, 17765, 17782, 18199, 18279, 18541, 18711, 19374]\n",
            "Fitness was :-  13077\n",
            "Fitness was :-  13585\n",
            "[0, 1, 0, 1, 1, 1, 1, 0, 1, 1, 1, 0, 1, 0, 1, 0, 0, 1, 0, 0, 0, 1, 0, 1, 0, 1, 1, 1, 0, 0, 1, 1, 1, 1, 1, 1, 0, 1, 1, 0, 1, 1, 1, 1, 1, 1, 0, 0, 1, 0, 0, 0, 1, 1, 1, 0, 1, 0, 1, 1, 0, 0, 0, 1, 0, 0, 0, 1, 0, 1, 0, 0, 1, 1, 1, 1, 1, 1, 0, 0, 1, 0, 0, 0, 0, 0, 1, 0, 0, 0, 1, 1, 0, 1, 0, 0, 0, 1, 0, 1, 0, 0, 1, 0, 1, 0, 0, 0, 0, 0, 0, 0, 0, 0, 0, 1, 1, 1, 1, 1, 0, 1, 1, 0, 0, 0, 0, 0, 0, 1, 1, 1, 0, 1, 0, 1, 1, 0, 1, 1, 1, 1, 0, 0, 0, 1, 0, 1, 0, 1, 0, 1, 0, 1, 0, 0, 0, 1, 1, 1, 0, 0, 0, 1, 0, 1, 0, 0, 1, 1, 1, 1, 0, 0, 0, 1, 0, 0, 1, 1, 0, 0, 1, 1, 1, 1, 1, 1, 1, 0, 1, 1, 1, 0, 0, 1, 0, 1, 1, 1, 0, 0, 0, 0, 0, 1, 1, 0, 1, 0, 0, 0, 0, 0, 0, 1, 0, 0, 0, 0, 1, 0, 1, 1, 0, 0, 1, 0, 1, 1, 1, 0, 1, 1, 1, 1, 0, 1, 0, 1, 1, 1, 1, 0, 0, 1, 1, 0, 0, 1, 1, 1, 0, 0, 0, 0, 0, 1, 0, 1, 0, 1, 1, 0, 0, 1, 0, 1, 1, 0, 1, 0, 1, 0, 0, 0, 0, 1, 1, 1, 1, 1, 1, 1, 0, 0, 1, 0, 1, 0, 1, 1, 1, 0, 0, 1, 1, 1, 0, 0, 1, 0, 0, 0, 1, 1, 1, 1, 0, 0, 1, 1, 0, 0, 0, 0, 1, 1, 0, 0, 1, 0, 1, 1, 1, 1, 0, 1, 0, 0, 1, 1, 0, 0, 0, 1, 0, 0, 1, 1, 1, 0, 0, 0, 0, 0, 1, 1, 0, 0, 1, 1, 1, 1, 0, 1, 0, 0, 1, 1, 1, 0, 1, 1, 0, 1, 0, 0, 1, 0, 0, 0, 0, 1, 1, 0, 0, 1, 0, 1, 1, 1, 0, 0, 0, 1, 0, 0, 1, 1, 0, 0, 0, 1, 0, 1, 1, 1, 0, 1, 0, 1, 0, 1, 0, 0, 1, 0, 1, 1, 0, 1, 0, 0, 1, 0, 0, 1, 1, 1, 0, 0, 1, 1, 0, 1, 1, 1, 0, 0, 1, 1, 0, 0, 0, 0, 0, 0, 1, 1, 0, 1, 1, 1, 1, 0, 1, 1, 1, 0, 0, 0, 0, 1, 1, 0, 1, 1, 0, 1, 1, 1, 0, 1, 1, 1, 0, 0, 0, 1, 0, 1, 1, 0, 0, 0, 0, 1, 1, 0, 0, 1, 1, 1, 0, 1, 0, 1, 1, 1, 1, 1, 1, 0, 0, 1, 0, 0, 0, 1, 1, 0, 1, 1, 0, 0, 0, 0, 0, 0, 0, 0]\n",
            "[1, 1, 0, 0, 1, 0, 0, 0, 0, 0, 0, 0, 0, 0, 1, 0, 1, 0, 0, 1, 0, 0, 1, 1, 1, 1, 0, 0, 0, 1, 0, 0, 0, 0, 0, 1, 0, 1, 0, 0, 0, 0, 1, 0, 1, 0, 0, 1, 1, 0, 1, 0, 0, 0, 1, 0, 0, 0, 1, 0, 1, 0, 0, 1, 1, 0, 1, 1, 0, 1, 0, 1, 1, 0, 0, 0, 0, 0, 0, 1, 1, 0, 0, 1, 0, 0, 0, 1, 0, 1, 0, 0, 1, 0, 0, 0, 0, 0, 1, 0, 1, 0, 0, 0, 0, 1, 0, 0, 1, 0, 0, 1, 0, 1, 0, 0, 0, 0, 0, 0, 0, 0, 0, 0, 0, 1, 1, 0, 0, 1, 0, 0, 0, 0, 0, 0, 1, 1, 0, 0, 0, 1, 0, 1, 0, 0, 0, 0, 0, 0, 0, 0, 1, 1, 1, 0, 0, 0, 0, 0, 0, 1, 1, 0, 0, 0, 0, 0, 1, 1, 1, 0, 1, 0, 0, 0, 0, 0, 0, 0, 1, 1, 0, 1, 0, 0, 0, 0, 0, 0, 0, 0, 0, 0, 0, 1, 0, 0, 0, 0, 1, 0, 1, 0, 0, 1, 0, 0, 0, 0, 0, 0, 1, 1, 0, 1, 1, 0, 0, 0, 1, 0, 0, 0, 1, 1, 0, 0, 1, 0, 0, 1, 1, 0, 0, 0, 0, 0, 0, 0, 0, 0, 0, 1, 1, 1, 1, 0, 0, 0, 0, 0, 1, 1, 0, 0, 1, 0, 0, 0, 0, 0, 1, 0, 1, 1, 0, 1, 0, 0, 1, 0, 0, 0, 1, 0, 0, 0, 1, 0, 1, 0, 1, 0, 0, 0, 1, 1, 0, 1, 0, 1, 1, 0, 0, 1, 0, 0, 0, 0, 0, 0, 1, 1, 0, 0, 1, 0, 0, 0, 0, 0, 0, 0, 0, 0, 0, 0, 0, 0, 0, 1, 1, 1, 1, 1, 0, 0, 1, 0, 1, 0, 0, 0, 0, 0, 0, 0, 0, 0, 0, 0, 0, 0, 0, 0, 0, 0, 0, 0, 1, 0, 0, 1, 0, 1, 1, 1, 0, 1, 0, 0, 0, 0, 0, 0, 0, 0, 0, 0, 0, 0, 0, 0, 1, 0, 1, 0, 0, 1, 0, 1, 0, 0, 0, 0, 0, 0, 1, 1, 0, 0, 0, 0, 0, 0, 0, 0, 1, 0, 0, 1, 1, 0, 0, 0, 1, 0, 0, 1, 0, 0, 0, 0, 0, 0, 0, 1, 0, 0, 1, 0, 0, 1, 1, 0, 0, 1, 1, 0, 1, 0, 1, 0, 1, 0, 1, 0, 1, 0, 0, 0, 0, 0, 0, 1, 0, 0, 1, 0, 0, 1, 0, 0, 0, 1, 1, 0, 0, 0, 0, 0, 0, 0, 0, 0, 0, 0, 0, 0, 1, 1, 1, 1, 1, 0, 0, 0, 0, 0, 1, 0, 0, 1, 1, 0, 1, 0, 0, 0, 1, 0, 1, 0, 0, 1, 0, 0, 0, 0, 0, 1, 0, 0, 0, 0, 0, 1, 0, 0, 0, 1]\n",
            "Xover points are :-  182  and  363\n",
            "[1, 1, 1, 0, 0, 0, 0, 1, 0, 0, 0, 0, 0, 1, 0, 1, 0, 0, 0, 0, 1, 1, 0, 0, 0, 0, 1, 1, 0, 0, 0, 1, 0, 0, 0, 0, 0, 0, 1, 0, 0, 1, 0, 0, 0, 0, 0, 1, 0, 0, 1, 0, 0, 0, 0, 0, 0, 1, 0, 0, 0, 0, 0, 0, 1, 1, 1, 0, 1, 0, 1, 0, 0, 0, 0, 1, 0, 0, 0, 0, 1, 0, 1, 0, 1, 1, 0, 0, 1, 1, 0, 0, 0, 0, 0, 0, 1, 0, 0, 0, 0, 1, 0, 0, 1, 1, 0, 0, 0, 0, 0, 0, 0, 0, 1, 1, 0, 0, 0, 1, 1, 0, 1, 0, 0, 1, 0, 1, 0, 0, 0, 0, 1, 0, 0, 0, 0, 0, 0, 1, 0, 0, 1, 0, 0, 0, 1, 0, 0, 1, 0, 0, 0, 0, 0, 1, 0, 0, 1, 0, 0, 1, 0, 0, 1, 0, 0, 0, 1, 0, 0, 0, 0, 0, 0, 0, 0, 0, 0, 0, 0, 0, 1, 0, 0, 0, 0, 1, 0, 1, 0, 1, 0, 0, 0, 0, 1, 1, 0, 0, 0, 1, 0, 0, 0, 0, 1, 0, 0, 1, 0, 0, 0, 1, 0, 0, 0, 1, 0, 0, 0, 1, 1, 0, 1, 0, 1, 0, 0, 0, 0, 0, 0, 0, 0, 0, 0, 0, 0, 1, 1, 0, 1, 0, 0, 1, 0, 0, 0, 1, 0, 0, 0, 0, 0, 1, 0, 0, 1, 0, 0, 0, 0, 0, 1, 0, 0, 1, 0, 0, 1, 0, 1, 0, 0, 0, 0, 0, 0, 0, 0, 0, 0, 0, 0, 0, 0, 1, 0, 0, 0, 0, 0, 0, 0, 1, 0, 0, 0, 1, 1, 0, 0, 0, 0, 1, 0, 1, 1, 0, 1, 0, 0, 0, 1, 0, 0, 0, 0, 0, 0, 0, 1, 1, 0, 0, 0, 0, 0, 1, 1, 1, 0, 0, 1, 1, 1, 0, 0, 0, 0, 0, 1, 0, 1, 1, 1, 0, 1, 0, 0, 0, 0, 0, 0, 0, 1, 0, 1, 1, 0, 0, 0, 1, 1, 0, 0, 1, 0, 0, 1, 0, 1, 0, 0, 0, 1, 0, 1, 0, 0, 1, 1, 1, 1, 1, 0, 0, 0, 0, 1, 1, 0, 1, 0, 0, 1, 0, 0, 0, 1, 0, 1, 0, 0, 1, 1, 1, 1, 0, 0, 0, 0, 0, 0, 0, 0, 0, 0, 0, 0, 0, 0, 1, 0, 0, 1, 0, 1, 1, 0, 1, 1, 0, 0, 1, 0, 0, 1, 0, 0, 1, 0, 0, 0, 0, 0, 0, 0, 0, 0, 0, 0, 0, 0, 1, 1, 0, 0, 0, 0, 0, 1, 0, 0, 0, 1, 0, 1, 1, 0, 0, 0, 1, 1, 1, 1, 1, 1, 0, 0, 1, 0, 0, 1, 1, 0, 0, 0, 0, 0, 1, 0, 1, 0, 0, 1, 0, 0, 1, 0, 0, 1, 0, 1, 1, 1, 0, 0, 0, 1, 1]\n",
            "[1, 0, 1, 0, 0, 0, 0, 1, 1, 0, 0, 1, 1, 1, 1, 1, 1, 0, 0, 0, 1, 0, 1, 0, 0, 0, 0, 0, 1, 1, 0, 0, 0, 0, 0, 1, 1, 0, 0, 0, 0, 0, 0, 0, 0, 0, 1, 1, 1, 1, 1, 1, 1, 0, 1, 0, 0, 0, 0, 0, 0, 1, 1, 1, 1, 1, 0, 0, 0, 0, 0, 0, 0, 0, 1, 0, 1, 0, 0, 1, 1, 1, 1, 0, 1, 1, 0, 0, 1, 1, 0, 1, 1, 0, 1, 1, 0, 1, 0, 0, 0, 1, 1, 1, 0, 0, 0, 0, 1, 0, 1, 0, 1, 0, 1, 1, 0, 1, 0, 1, 0, 1, 0, 0, 0, 1, 1, 1, 1, 1, 1, 1, 1, 1, 1, 0, 0, 1, 1, 0, 1, 0, 1, 1, 0, 1, 0, 0, 0, 0, 1, 1, 1, 1, 1, 0, 1, 0, 0, 0, 1, 0, 0, 0, 1, 0, 0, 1, 1, 0, 1, 0, 0, 1, 1, 1, 1, 1, 0, 0, 0, 1, 0, 0, 0, 1, 0, 0, 1, 1, 1, 0, 1, 1, 0, 1, 1, 1, 0, 0, 1, 1, 1, 0, 0, 1, 0, 0, 0, 0, 1, 0, 0, 0, 1, 1, 1, 0, 1, 0, 0, 0, 0, 0, 0, 1, 0, 1, 0, 1, 0, 0, 1, 1, 1, 0, 0, 1, 1, 0, 1, 1, 0, 0, 0, 0, 0, 0, 0, 1, 1, 1, 1, 1, 1, 0, 0, 0, 1, 1, 0, 0, 1, 1, 0, 1, 1, 1, 1, 1, 1, 0, 1, 1, 1, 0, 0, 1, 0, 0, 1, 0, 0, 0, 0, 1, 0, 0, 0, 0, 1, 1, 1, 0, 1, 0, 1, 1, 1, 1, 0, 0, 0, 0, 1, 0, 1, 1, 1, 1, 1, 0, 0, 0, 1, 1, 1, 0, 0, 1, 0, 1, 0, 1, 0, 0, 1, 1, 1, 1, 0, 1, 0, 1, 1, 1, 0, 0, 0, 1, 1, 1, 1, 0, 0, 0, 0, 0, 0, 1, 1, 0, 0, 0, 0, 0, 0, 1, 0, 0, 1, 1, 1, 1, 0, 1, 0, 0, 0, 0, 0, 1, 1, 1, 0, 1, 0, 0, 0, 1, 1, 0, 1, 1, 1, 0, 0, 1, 0, 1, 0, 1, 0, 0, 1, 0, 0, 1, 0, 1, 1, 1, 1, 0, 1, 0, 1, 1, 1, 1, 0, 1, 1, 0, 0, 0, 0, 1, 0, 0, 1, 1, 1, 1, 0, 0, 1, 1, 0, 0, 0, 1, 1, 0, 1, 0, 1, 0, 1, 0, 0, 1, 0, 0, 1, 0, 1, 0, 0, 0, 1, 1, 1, 1, 0, 1, 1, 1, 1, 1, 0, 0, 1, 1, 0, 1, 0, 1, 1, 0, 0, 1, 0, 0, 1, 0, 1, 1, 0, 1, 1, 0, 1, 1, 0, 0, 1, 1, 1, 0, 0, 1, 1, 0, 0, 0, 1, 0, 1, 1, 1, 0, 0, 1, 1, 0, 0, 0, 1, 1, 1, 0]\n",
            "Xover points are :-  180  and  488\n",
            "Offsprings after xover :-  [[0, 1, 0, 1, 1, 1, 1, 0, 1, 1, 1, 0, 1, 0, 1, 0, 0, 1, 0, 0, 0, 1, 0, 1, 0, 1, 1, 1, 0, 0, 1, 1, 1, 1, 1, 1, 0, 1, 1, 0, 1, 1, 1, 1, 1, 1, 0, 0, 1, 0, 0, 0, 1, 1, 1, 0, 1, 0, 1, 1, 0, 0, 0, 1, 0, 0, 0, 1, 0, 1, 0, 0, 1, 1, 1, 1, 1, 1, 0, 0, 1, 0, 0, 0, 0, 0, 1, 0, 0, 0, 1, 1, 0, 1, 0, 0, 0, 1, 0, 1, 0, 0, 1, 0, 1, 0, 0, 0, 0, 0, 0, 0, 0, 0, 0, 1, 1, 1, 1, 1, 0, 1, 1, 0, 0, 0, 0, 0, 0, 1, 1, 1, 0, 1, 0, 1, 1, 0, 1, 1, 1, 1, 0, 0, 0, 1, 0, 1, 0, 1, 0, 1, 0, 1, 0, 0, 0, 1, 1, 1, 0, 0, 0, 1, 0, 1, 0, 0, 1, 1, 1, 1, 0, 0, 0, 1, 0, 0, 1, 1, 0, 0, 0, 1, 0, 0, 0, 0, 0, 0, 0, 0, 0, 0, 0, 1, 0, 0, 0, 0, 1, 0, 1, 0, 0, 1, 0, 0, 0, 0, 0, 0, 1, 1, 0, 1, 1, 0, 0, 0, 1, 0, 0, 0, 1, 1, 0, 0, 1, 0, 0, 1, 1, 0, 0, 0, 0, 0, 0, 0, 0, 0, 0, 1, 1, 1, 1, 0, 0, 0, 0, 0, 1, 1, 0, 0, 1, 0, 0, 0, 0, 0, 1, 0, 1, 1, 0, 1, 0, 0, 1, 0, 0, 0, 1, 0, 0, 0, 1, 0, 1, 0, 1, 0, 0, 0, 1, 1, 0, 1, 0, 1, 1, 0, 0, 1, 0, 0, 0, 0, 0, 0, 1, 1, 0, 0, 1, 0, 0, 0, 0, 0, 0, 0, 0, 0, 0, 0, 0, 0, 0, 1, 1, 1, 1, 1, 0, 0, 1, 0, 1, 0, 0, 0, 0, 0, 0, 0, 0, 0, 0, 0, 0, 0, 0, 0, 0, 0, 0, 0, 1, 0, 0, 1, 0, 1, 1, 1, 0, 1, 0, 0, 0, 1, 0, 1, 0, 0, 1, 0, 0, 0, 0, 1, 1, 0, 0, 1, 0, 1, 1, 1, 0, 0, 0, 1, 0, 0, 1, 1, 0, 0, 0, 1, 0, 1, 1, 1, 0, 1, 0, 1, 0, 1, 0, 0, 1, 0, 1, 1, 0, 1, 0, 0, 1, 0, 0, 1, 1, 1, 0, 0, 1, 1, 0, 1, 1, 1, 0, 0, 1, 1, 0, 0, 0, 0, 0, 0, 1, 1, 0, 1, 1, 1, 1, 0, 1, 1, 1, 0, 0, 0, 0, 1, 1, 0, 1, 1, 0, 1, 1, 1, 0, 1, 1, 1, 0, 0, 0, 1, 0, 1, 1, 0, 0, 0, 0, 1, 1, 0, 0, 1, 1, 1, 0, 1, 0, 1, 1, 1, 1, 1, 1, 0, 0, 1, 0, 0, 0, 1, 1, 0, 1, 1, 0, 0, 0, 0, 0, 0, 0, 0], [1, 1, 0, 0, 1, 0, 0, 0, 0, 0, 0, 0, 0, 0, 1, 0, 1, 0, 0, 1, 0, 0, 1, 1, 1, 1, 0, 0, 0, 1, 0, 0, 0, 0, 0, 1, 0, 1, 0, 0, 0, 0, 1, 0, 1, 0, 0, 1, 1, 0, 1, 0, 0, 0, 1, 0, 0, 0, 1, 0, 1, 0, 0, 1, 1, 0, 1, 1, 0, 1, 0, 1, 1, 0, 0, 0, 0, 0, 0, 1, 1, 0, 0, 1, 0, 0, 0, 1, 0, 1, 0, 0, 1, 0, 0, 0, 0, 0, 1, 0, 1, 0, 0, 0, 0, 1, 0, 0, 1, 0, 0, 1, 0, 1, 0, 0, 0, 0, 0, 0, 0, 0, 0, 0, 0, 1, 1, 0, 0, 1, 0, 0, 0, 0, 0, 0, 1, 1, 0, 0, 0, 1, 0, 1, 0, 0, 0, 0, 0, 0, 0, 0, 1, 1, 1, 0, 0, 0, 0, 0, 0, 1, 1, 0, 0, 0, 0, 0, 1, 1, 1, 0, 1, 0, 0, 0, 0, 0, 0, 0, 1, 1, 1, 1, 1, 1, 1, 1, 1, 0, 1, 1, 1, 0, 0, 1, 0, 1, 1, 1, 0, 0, 0, 0, 0, 1, 1, 0, 1, 0, 0, 0, 0, 0, 0, 1, 0, 0, 0, 0, 1, 0, 1, 1, 0, 0, 1, 0, 1, 1, 1, 0, 1, 1, 1, 1, 0, 1, 0, 1, 1, 1, 1, 0, 0, 1, 1, 0, 0, 1, 1, 1, 0, 0, 0, 0, 0, 1, 0, 1, 0, 1, 1, 0, 0, 1, 0, 1, 1, 0, 1, 0, 1, 0, 0, 0, 0, 1, 1, 1, 1, 1, 1, 1, 0, 0, 1, 0, 1, 0, 1, 1, 1, 0, 0, 1, 1, 1, 0, 0, 1, 0, 0, 0, 1, 1, 1, 1, 0, 0, 1, 1, 0, 0, 0, 0, 1, 1, 0, 0, 1, 0, 1, 1, 1, 1, 0, 1, 0, 0, 1, 1, 0, 0, 0, 1, 0, 0, 1, 1, 1, 0, 0, 0, 0, 0, 1, 1, 0, 0, 1, 1, 1, 1, 0, 1, 0, 0, 1, 1, 1, 0, 1, 0, 0, 0, 0, 0, 0, 0, 0, 0, 0, 0, 1, 0, 1, 0, 0, 1, 0, 1, 0, 0, 0, 0, 0, 0, 1, 1, 0, 0, 0, 0, 0, 0, 0, 0, 1, 0, 0, 1, 1, 0, 0, 0, 1, 0, 0, 1, 0, 0, 0, 0, 0, 0, 0, 1, 0, 0, 1, 0, 0, 1, 1, 0, 0, 1, 1, 0, 1, 0, 1, 0, 1, 0, 1, 0, 1, 0, 0, 0, 0, 0, 0, 1, 0, 0, 1, 0, 0, 1, 0, 0, 0, 1, 1, 0, 0, 0, 0, 0, 0, 0, 0, 0, 0, 0, 0, 0, 1, 1, 1, 1, 1, 0, 0, 0, 0, 0, 1, 0, 0, 1, 1, 0, 1, 0, 0, 0, 1, 0, 1, 0, 0, 1, 0, 0, 0, 0, 0, 1, 0, 0, 0, 0, 0, 1, 0, 0, 0, 1], [1, 1, 1, 0, 0, 0, 0, 1, 0, 0, 0, 0, 0, 1, 0, 1, 0, 0, 0, 0, 1, 1, 0, 0, 0, 0, 1, 1, 0, 0, 0, 1, 0, 0, 0, 0, 0, 0, 1, 0, 0, 1, 0, 0, 0, 0, 0, 1, 0, 0, 1, 0, 0, 0, 0, 0, 0, 1, 0, 0, 0, 0, 0, 0, 1, 1, 1, 0, 1, 0, 1, 0, 0, 0, 0, 1, 0, 0, 0, 0, 1, 0, 1, 0, 1, 1, 0, 0, 1, 1, 0, 0, 0, 0, 0, 0, 1, 0, 0, 0, 0, 1, 0, 0, 1, 1, 0, 0, 0, 0, 0, 0, 0, 0, 1, 1, 0, 0, 0, 1, 1, 0, 1, 0, 0, 1, 0, 1, 0, 0, 0, 0, 1, 0, 0, 0, 0, 0, 0, 1, 0, 0, 1, 0, 0, 0, 1, 0, 0, 1, 0, 0, 0, 0, 0, 1, 0, 0, 1, 0, 0, 1, 0, 0, 1, 0, 0, 0, 1, 0, 0, 0, 0, 0, 0, 0, 0, 0, 0, 0, 0, 1, 0, 0, 0, 1, 0, 0, 1, 1, 1, 0, 1, 1, 0, 1, 1, 1, 0, 0, 1, 1, 1, 0, 0, 1, 0, 0, 0, 0, 1, 0, 0, 0, 1, 1, 1, 0, 1, 0, 0, 0, 0, 0, 0, 1, 0, 1, 0, 1, 0, 0, 1, 1, 1, 0, 0, 1, 1, 0, 1, 1, 0, 0, 0, 0, 0, 0, 0, 1, 1, 1, 1, 1, 1, 0, 0, 0, 1, 1, 0, 0, 1, 1, 0, 1, 1, 1, 1, 1, 1, 0, 1, 1, 1, 0, 0, 1, 0, 0, 1, 0, 0, 0, 0, 1, 0, 0, 0, 0, 1, 1, 1, 0, 1, 0, 1, 1, 1, 1, 0, 0, 0, 0, 1, 0, 1, 1, 1, 1, 1, 0, 0, 0, 1, 1, 1, 0, 0, 1, 0, 1, 0, 1, 0, 0, 1, 1, 1, 1, 0, 1, 0, 1, 1, 1, 0, 0, 0, 1, 1, 1, 1, 0, 0, 0, 0, 0, 0, 1, 1, 0, 0, 0, 0, 0, 0, 1, 0, 0, 1, 1, 1, 1, 0, 1, 0, 0, 0, 0, 0, 1, 1, 1, 0, 1, 0, 0, 0, 1, 1, 0, 1, 1, 1, 0, 0, 1, 0, 1, 0, 1, 0, 0, 1, 0, 0, 1, 0, 1, 1, 1, 1, 0, 1, 0, 1, 1, 1, 1, 0, 1, 1, 0, 0, 0, 0, 1, 0, 0, 1, 1, 1, 1, 0, 0, 1, 1, 0, 0, 0, 1, 1, 0, 1, 0, 1, 0, 1, 0, 0, 1, 0, 0, 1, 0, 1, 0, 0, 0, 1, 1, 1, 1, 0, 1, 1, 1, 1, 1, 0, 0, 1, 1, 0, 1, 0, 1, 1, 0, 0, 1, 0, 0, 1, 0, 1, 1, 0, 1, 1, 0, 1, 1, 0, 0, 1, 1, 0, 0, 0, 1, 0, 1, 0, 0, 1, 0, 0, 1, 0, 0, 1, 0, 1, 1, 1, 0, 0, 0, 1, 1], [1, 0, 1, 0, 0, 0, 0, 1, 1, 0, 0, 1, 1, 1, 1, 1, 1, 0, 0, 0, 1, 0, 1, 0, 0, 0, 0, 0, 1, 1, 0, 0, 0, 0, 0, 1, 1, 0, 0, 0, 0, 0, 0, 0, 0, 0, 1, 1, 1, 1, 1, 1, 1, 0, 1, 0, 0, 0, 0, 0, 0, 1, 1, 1, 1, 1, 0, 0, 0, 0, 0, 0, 0, 0, 1, 0, 1, 0, 0, 1, 1, 1, 1, 0, 1, 1, 0, 0, 1, 1, 0, 1, 1, 0, 1, 1, 0, 1, 0, 0, 0, 1, 1, 1, 0, 0, 0, 0, 1, 0, 1, 0, 1, 0, 1, 1, 0, 1, 0, 1, 0, 1, 0, 0, 0, 1, 1, 1, 1, 1, 1, 1, 1, 1, 1, 0, 0, 1, 1, 0, 1, 0, 1, 1, 0, 1, 0, 0, 0, 0, 1, 1, 1, 1, 1, 0, 1, 0, 0, 0, 1, 0, 0, 0, 1, 0, 0, 1, 1, 0, 1, 0, 0, 1, 1, 1, 1, 1, 0, 0, 0, 0, 1, 0, 0, 0, 0, 1, 0, 1, 0, 1, 0, 0, 0, 0, 1, 1, 0, 0, 0, 1, 0, 0, 0, 0, 1, 0, 0, 1, 0, 0, 0, 1, 0, 0, 0, 1, 0, 0, 0, 1, 1, 0, 1, 0, 1, 0, 0, 0, 0, 0, 0, 0, 0, 0, 0, 0, 0, 1, 1, 0, 1, 0, 0, 1, 0, 0, 0, 1, 0, 0, 0, 0, 0, 1, 0, 0, 1, 0, 0, 0, 0, 0, 1, 0, 0, 1, 0, 0, 1, 0, 1, 0, 0, 0, 0, 0, 0, 0, 0, 0, 0, 0, 0, 0, 0, 1, 0, 0, 0, 0, 0, 0, 0, 1, 0, 0, 0, 1, 1, 0, 0, 0, 0, 1, 0, 1, 1, 0, 1, 0, 0, 0, 1, 0, 0, 0, 0, 0, 0, 0, 1, 1, 0, 0, 0, 0, 0, 1, 1, 1, 0, 0, 1, 1, 1, 0, 0, 0, 0, 0, 1, 0, 1, 1, 1, 0, 1, 0, 0, 0, 0, 0, 0, 0, 1, 0, 1, 1, 0, 0, 0, 1, 1, 0, 0, 1, 0, 0, 1, 0, 1, 0, 0, 0, 1, 0, 1, 0, 0, 1, 1, 1, 1, 1, 0, 0, 0, 0, 1, 1, 0, 1, 0, 0, 1, 0, 0, 0, 1, 0, 1, 0, 0, 1, 1, 1, 1, 0, 0, 0, 0, 0, 0, 0, 0, 0, 0, 0, 0, 0, 0, 1, 0, 0, 1, 0, 1, 1, 0, 1, 1, 0, 0, 1, 0, 0, 1, 0, 0, 1, 0, 0, 0, 0, 0, 0, 0, 0, 0, 0, 0, 0, 0, 1, 1, 0, 0, 0, 0, 0, 1, 0, 0, 0, 1, 0, 1, 1, 0, 0, 0, 1, 1, 1, 1, 1, 1, 0, 0, 1, 0, 0, 1, 1, 0, 0, 1, 0, 0, 1, 1, 0, 0, 0, 1, 0, 1, 1, 1, 0, 0, 1, 1, 0, 0, 0, 1, 1, 1, 0]]\n",
            "Fitness after xover :-  [16424, 14613, 15133, 15531]\n",
            "Performing mutation\n",
            "Index selected was :-  [186, 361, 50, 462, 74, 458, 57, 249, 325, 321, 282, 283, 460, 484, 232, 225, 176, 216, 425, 395, 231, 236, 356, 498, 3, 86, 115, 389, 132, 26, 13, 188, 23, 479, 383, 454, 6, 320, 474, 446, 348, 377, 394, 434, 421, 1, 101, 117, 130, 58, 93, 368, 416, 46, 158, 482, 199, 258, 4, 483, 316, 207, 487, 387, 215, 8, 448, 203, 47, 401, 370, 237, 390, 21, 252, 358, 226, 290, 116, 208, 7, 137, 170, 251, 44, 499, 49, 481, 311, 257, 190, 100, 136, 151, 126, 297, 296, 504, 9, 275, 127, 75, 244, 365, 187, 422, 312, 80, 171, 142, 347, 332, 163, 53, 464, 335, 400, 45, 276, 489, 327, 414, 264, 148, 63, 420, 465, 429, 468, 505, 220, 461, 235, 33, 488, 329, 238, 51, 180, 165, 55, 289, 336, 423, 65, 281, 286, 36, 129, 218, 157, 211, 430, 64, 22, 97, 507, 509, 0, 48, 223, 453, 98, 315, 490, 16, 506, 154, 91, 441]\n",
            "Index selected was :-  [360, 296, 40, 280, 424, 315, 380, 228, 15, 331, 463, 158, 229, 249, 106, 231, 193, 160, 474, 119, 220, 200, 152, 90, 408, 157, 147, 348, 322, 390, 475, 254, 23, 307, 430, 141, 168, 185, 39, 114, 134, 267, 222, 255, 180, 311, 365, 373, 108, 28, 258, 21, 85, 483, 353, 30, 354, 407, 8, 398, 309, 409, 500, 341, 493, 27, 391, 499, 279, 266, 259, 329, 342, 100, 285, 188, 191, 377, 297, 406, 2, 252, 423, 269, 70, 262, 226, 320, 245, 487, 462, 71, 63, 18, 214, 438, 131, 79, 1, 84, 327, 263, 275, 291, 385, 432, 298, 167, 36, 31, 484, 210, 501, 121, 153, 420, 246, 207, 414, 330, 368, 211, 281, 224, 347, 236, 370, 445, 450, 287, 34, 96, 313, 118, 94, 178, 304, 356, 120, 289, 489, 472, 138, 464, 54, 145, 492, 102, 112, 230, 61]\n",
            "Performing mutation\n",
            "Index selected was :-  [236, 340, 194, 314, 440, 430, 60, 418, 316, 398, 87, 263, 368, 304, 57, 233, 232, 396, 376, 437, 139, 355, 98, 35, 467, 334, 206, 198, 214, 416, 137, 444, 363, 498, 286, 167, 100, 249, 205, 364, 219, 262, 152, 454, 245, 89, 14, 388, 320, 181, 332, 423, 436, 310, 257, 419, 122, 297, 21, 220, 141, 182, 382, 335, 179, 281, 503, 477, 254, 508, 345, 235, 52, 435, 123, 370, 191, 4, 212, 400, 224, 225, 455, 169, 428, 493, 237, 497, 408, 377, 433, 317, 11, 357, 505, 37, 99, 409, 479, 410, 143, 0, 441, 427, 164, 96, 305, 104, 349, 395, 114, 65, 110, 306, 51, 3, 387, 386, 462, 36, 242, 176, 397, 344, 475, 230, 420, 43, 422, 268, 371, 105, 296, 69, 445, 113, 170, 94, 54, 492, 482, 324, 64, 271, 5, 23, 160, 151, 215, 378, 77, 452, 285, 127, 362, 27]\n",
            "Performing mutation\n",
            "Index selected was :-  [507, 456, 37, 70, 144, 412, 159, 232, 383, 25, 365, 447, 126, 77, 245, 124, 167, 267, 117, 237, 430, 154, 266, 26, 128, 441, 181, 60, 249, 100, 423, 406, 314, 157, 335, 34, 199, 504, 270, 173, 385, 324, 491, 220, 462, 212, 45, 348, 2, 360, 417, 289, 62, 449, 353, 252, 28, 315, 143, 376, 380, 235, 242, 207, 390, 400, 127, 300, 452, 310, 279, 510, 393, 92, 368, 399, 186, 101, 171, 261, 334, 102, 287, 183, 464, 150, 496, 331, 13, 328, 357, 68, 187, 428, 244, 299, 53, 22, 158, 15, 103, 46, 18, 336, 398, 192, 184, 407, 155, 121, 32, 483, 5, 14, 321, 226, 322, 114, 486, 492, 120, 481, 174, 160, 136, 372, 215, 451, 93, 413, 122, 153, 111, 371, 231, 178, 431, 356, 148, 21, 79, 490, 82, 327, 296, 31, 133, 384, 161, 363, 0, 440, 295, 145, 97, 319, 233, 414, 392, 165]\n"
          ],
          "name": "stdout"
        },
        {
          "output_type": "error",
          "ename": "KeyboardInterrupt",
          "evalue": "ignored",
          "traceback": [
            "\u001b[0;31m---------------------------------------------------------------------------\u001b[0m",
            "\u001b[0;31mKeyboardInterrupt\u001b[0m                         Traceback (most recent call last)",
            "\u001b[0;32m<ipython-input-24-a073cf0d1801>\u001b[0m in \u001b[0;36m<module>\u001b[0;34m()\u001b[0m\n\u001b[1;32m    115\u001b[0m   \u001b[0;31m##Calculating fitness after performing mutation\u001b[0m\u001b[0;34m\u001b[0m\u001b[0;34m\u001b[0m\u001b[0;34m\u001b[0m\u001b[0m\n\u001b[1;32m    116\u001b[0m \u001b[0;34m\u001b[0m\u001b[0m\n\u001b[0;32m--> 117\u001b[0;31m   \u001b[0moffspring_solutions\u001b[0m \u001b[0;34m,\u001b[0m \u001b[0moffspring_fitness\u001b[0m \u001b[0;34m=\u001b[0m \u001b[0mfitness_evaluator\u001b[0m\u001b[0;34m(\u001b[0m\u001b[0moffspring_pool\u001b[0m\u001b[0;34m,\u001b[0m\u001b[0ma_start\u001b[0m\u001b[0;34m,\u001b[0m\u001b[0ma_goal\u001b[0m\u001b[0;34m)\u001b[0m\u001b[0;34m\u001b[0m\u001b[0;34m\u001b[0m\u001b[0m\n\u001b[0m\u001b[1;32m    118\u001b[0m \u001b[0;34m\u001b[0m\u001b[0m\n\u001b[1;32m    119\u001b[0m   \u001b[0mprint\u001b[0m\u001b[0;34m(\u001b[0m\u001b[0;34m\"Fitness after mutation :- \"\u001b[0m \u001b[0;34m,\u001b[0m \u001b[0moffspring_fitness\u001b[0m\u001b[0;34m)\u001b[0m\u001b[0;34m\u001b[0m\u001b[0;34m\u001b[0m\u001b[0m\n",
            "\u001b[0;32m<ipython-input-13-134bc11fbea0>\u001b[0m in \u001b[0;36mfitness_evaluator\u001b[0;34m(pool, start, goal)\u001b[0m\n\u001b[1;32m      5\u001b[0m     \u001b[0mtrial_start\u001b[0m \u001b[0;34m=\u001b[0m \u001b[0mcopy\u001b[0m\u001b[0;34m.\u001b[0m\u001b[0mdeepcopy\u001b[0m\u001b[0;34m(\u001b[0m\u001b[0mstart\u001b[0m\u001b[0;34m)\u001b[0m\u001b[0;34m\u001b[0m\u001b[0;34m\u001b[0m\u001b[0m\n\u001b[1;32m      6\u001b[0m     \u001b[0;32mfor\u001b[0m \u001b[0mp\u001b[0m \u001b[0;32min\u001b[0m \u001b[0mrange\u001b[0m\u001b[0;34m(\u001b[0m\u001b[0;36m5\u001b[0m\u001b[0;34m)\u001b[0m\u001b[0;34m:\u001b[0m\u001b[0;34m\u001b[0m\u001b[0;34m\u001b[0m\u001b[0m\n\u001b[0;32m----> 7\u001b[0;31m       \u001b[0mtrial_start\u001b[0m \u001b[0;34m=\u001b[0m \u001b[0mwindow_slider\u001b[0m\u001b[0;34m(\u001b[0m\u001b[0mtrial_start\u001b[0m\u001b[0;34m,\u001b[0m\u001b[0mpool\u001b[0m\u001b[0;34m,\u001b[0m\u001b[0mi\u001b[0m\u001b[0;34m)\u001b[0m\u001b[0;34m\u001b[0m\u001b[0;34m\u001b[0m\u001b[0m\n\u001b[0m\u001b[1;32m      8\u001b[0m     \u001b[0moffspring_solutions\u001b[0m\u001b[0;34m[\u001b[0m\u001b[0mi\u001b[0m\u001b[0;34m]\u001b[0m \u001b[0;34m=\u001b[0m \u001b[0mtrial_start\u001b[0m\u001b[0;34m\u001b[0m\u001b[0;34m\u001b[0m\u001b[0m\n\u001b[1;32m      9\u001b[0m     \u001b[0mo_fit\u001b[0m \u001b[0;34m=\u001b[0m \u001b[0mcalculate_fitness\u001b[0m\u001b[0;34m(\u001b[0m\u001b[0moffspring_solutions\u001b[0m\u001b[0;34m[\u001b[0m\u001b[0mi\u001b[0m\u001b[0;34m]\u001b[0m\u001b[0;34m,\u001b[0m\u001b[0mgoal\u001b[0m\u001b[0;34m)\u001b[0m\u001b[0;34m\u001b[0m\u001b[0;34m\u001b[0m\u001b[0m\n",
            "\u001b[0;32m<ipython-input-9-6659b75bd63c>\u001b[0m in \u001b[0;36mwindow_slider\u001b[0;34m(a1, rules, candidate)\u001b[0m\n\u001b[1;32m      6\u001b[0m     \u001b[0;32mwhile\u001b[0m \u001b[0mi\u001b[0m \u001b[0;34m<\u001b[0m \u001b[0;34m(\u001b[0m\u001b[0mlen\u001b[0m\u001b[0;34m(\u001b[0m\u001b[0ma1\u001b[0m\u001b[0;34m[\u001b[0m\u001b[0;36m0\u001b[0m\u001b[0;34m]\u001b[0m\u001b[0;34m)\u001b[0m\u001b[0;34m-\u001b[0m\u001b[0;36m2\u001b[0m\u001b[0;34m)\u001b[0m\u001b[0;34m:\u001b[0m\u001b[0;34m\u001b[0m\u001b[0;34m\u001b[0m\u001b[0m\n\u001b[1;32m      7\u001b[0m       \u001b[0mwindow\u001b[0m \u001b[0;34m=\u001b[0m \u001b[0ma1\u001b[0m\u001b[0;34m[\u001b[0m\u001b[0mj\u001b[0m\u001b[0;34m:\u001b[0m\u001b[0mj\u001b[0m\u001b[0;34m+\u001b[0m\u001b[0;36m3\u001b[0m \u001b[0;34m,\u001b[0m \u001b[0mi\u001b[0m\u001b[0;34m:\u001b[0m\u001b[0mi\u001b[0m\u001b[0;34m+\u001b[0m\u001b[0;36m3\u001b[0m\u001b[0;34m]\u001b[0m\u001b[0;34m\u001b[0m\u001b[0;34m\u001b[0m\u001b[0m\n\u001b[0;32m----> 8\u001b[0;31m       \u001b[0mwindow\u001b[0m \u001b[0;34m=\u001b[0m \u001b[0mrule_applier\u001b[0m\u001b[0;34m(\u001b[0m\u001b[0mwindow\u001b[0m\u001b[0;34m,\u001b[0m\u001b[0mrules\u001b[0m\u001b[0;34m,\u001b[0m\u001b[0mcandidate\u001b[0m\u001b[0;34m)\u001b[0m\u001b[0;34m\u001b[0m\u001b[0;34m\u001b[0m\u001b[0m\n\u001b[0m\u001b[1;32m      9\u001b[0m       \u001b[0mi\u001b[0m \u001b[0;34m+=\u001b[0m \u001b[0;36m1\u001b[0m\u001b[0;34m\u001b[0m\u001b[0;34m\u001b[0m\u001b[0m\n\u001b[1;32m     10\u001b[0m \u001b[0;34m\u001b[0m\u001b[0m\n",
            "\u001b[0;32m<ipython-input-5-6ad82543baf8>\u001b[0m in \u001b[0;36mrule_applier\u001b[0;34m(w_3x3, rules, ind)\u001b[0m\n\u001b[1;32m      1\u001b[0m \u001b[0;34m\u001b[0m\u001b[0m\n\u001b[1;32m      2\u001b[0m \u001b[0;32mdef\u001b[0m \u001b[0mrule_applier\u001b[0m \u001b[0;34m(\u001b[0m\u001b[0mw_3x3\u001b[0m\u001b[0;34m,\u001b[0m\u001b[0mrules\u001b[0m\u001b[0;34m,\u001b[0m\u001b[0mind\u001b[0m\u001b[0;34m)\u001b[0m\u001b[0;34m:\u001b[0m\u001b[0;34m\u001b[0m\u001b[0;34m\u001b[0m\u001b[0m\n\u001b[0;32m----> 3\u001b[0;31m   \u001b[0mwindow_9\u001b[0m \u001b[0;34m=\u001b[0m \u001b[0mw_3x3\u001b[0m\u001b[0;34m.\u001b[0m\u001b[0mreshape\u001b[0m\u001b[0;34m(\u001b[0m\u001b[0;36m1\u001b[0m\u001b[0;34m,\u001b[0m\u001b[0;36m9\u001b[0m\u001b[0;34m)\u001b[0m\u001b[0;34m\u001b[0m\u001b[0;34m\u001b[0m\u001b[0m\n\u001b[0m\u001b[1;32m      4\u001b[0m   \u001b[0mw_str\u001b[0m \u001b[0;34m=\u001b[0m \u001b[0;34m\"\"\u001b[0m\u001b[0;34m.\u001b[0m\u001b[0mjoin\u001b[0m\u001b[0;34m(\u001b[0m\u001b[0mstr\u001b[0m\u001b[0;34m(\u001b[0m\u001b[0mx\u001b[0m\u001b[0;34m)\u001b[0m \u001b[0;32mfor\u001b[0m \u001b[0mx\u001b[0m \u001b[0;32min\u001b[0m \u001b[0mwindow_9\u001b[0m\u001b[0;34m[\u001b[0m\u001b[0;36m0\u001b[0m\u001b[0;34m]\u001b[0m\u001b[0;34m)\u001b[0m\u001b[0;34m\u001b[0m\u001b[0;34m\u001b[0m\u001b[0m\n\u001b[1;32m      5\u001b[0m   \u001b[0mw_int\u001b[0m \u001b[0;34m=\u001b[0m \u001b[0mint\u001b[0m\u001b[0;34m(\u001b[0m\u001b[0mw_str\u001b[0m\u001b[0;34m,\u001b[0m\u001b[0;36m2\u001b[0m\u001b[0;34m)\u001b[0m\u001b[0;34m\u001b[0m\u001b[0;34m\u001b[0m\u001b[0m\n",
            "\u001b[0;31mKeyboardInterrupt\u001b[0m: "
          ]
        }
      ]
    }
  ]
}